{
 "cells": [
  {
   "cell_type": "markdown",
   "id": "2de5289d",
   "metadata": {},
   "source": [
    "# Module "
   ]
  },
  {
   "cell_type": "code",
   "execution_count": 2,
   "id": "e0f37c0a",
   "metadata": {},
   "outputs": [],
   "source": [
    "%matplotlib inline\n",
    "%load_ext autoreload\n",
    "%autoreload 2\n",
    "import sys\n",
    "sys.path.append('../')\n",
    "\n",
    "import matplotlib.pyplot as plt\n",
    "import pandas as pd\n",
    "import numpy as np\n",
    "import seaborn as sns\n",
    "import os\n",
    "# from scripts.train_config import raw_data_dir"
   ]
  },
  {
   "cell_type": "markdown",
   "id": "2d52cf2c",
   "metadata": {},
   "source": [
    "# Config"
   ]
  },
  {
   "cell_type": "code",
   "execution_count": 10,
   "id": "02166a5d",
   "metadata": {},
   "outputs": [],
   "source": [
    "raw_data_dir = '../logs/'"
   ]
  },
  {
   "cell_type": "code",
   "execution_count": null,
   "id": "50c013a6",
   "metadata": {},
   "outputs": [],
   "source": []
  },
  {
   "cell_type": "code",
   "execution_count": 22,
   "id": "f421c90a",
   "metadata": {},
   "outputs": [],
   "source": [
    "# #@save\n",
    "# d2l.DATA_HUB['ml-100k'] = (\n",
    "#     'http://files.grouplens.org/datasets/movielens/ml-100k.zip',\n",
    "#     'cd4dcac4241c8a4ad7badc7ca635da8a69dddb83')\n",
    "\n",
    "#@save\n",
    "def read_data_ml100k():\n",
    "#     data_dir = d2l.download_extract('ml-100k')\n",
    "    names = ['user_id', 'item_id', 'rating', 'timestamp']\n",
    "#     data = pd.read_csv(os.path.join(raw_data_dir, 'u.data'), '\\t', names=names,\n",
    "#                        engine='python')\n",
    "#     names = ['user_id','gender','age','occupation','zip']\n",
    "    data = pd.read_csv(os.path.join(raw_data_dir, 'ratings.dat'),sep='::',header=None,names=names)\n",
    "    num_users = data.user_id.unique().shape[0]\n",
    "    num_items = data.item_id.unique().shape[0]\n",
    "    return data, num_users, num_items\n",
    "\n",
    "#@save\n",
    "def split_data_ml100k(data, num_users, num_items, split_mode='random',\n",
    "                      test_ratio=0.1):\n",
    "    \"\"\"Split the dataset in random mode or seq-aware mode.\"\"\"\n",
    "    if split_mode == 'seq-aware':\n",
    "        train_items, test_items, train_list = {}, {}, []\n",
    "        for line in data.itertuples():\n",
    "            u, i, rating, time = line[1], line[2], line[3], line[4]\n",
    "            train_items.setdefault(u, []).append((u, i, rating, time))\n",
    "            if u not in test_items or test_items[u][-1] < time:\n",
    "                test_items[u] = (i, rating, time)\n",
    "        for u in range(1, num_users + 1):\n",
    "            train_list.extend(sorted(train_items[u], key=lambda k: k[3]))\n",
    "        test_data = [(key, *value) for key, value in test_items.items()]\n",
    "        train_data = [item for item in train_list if item not in test_data]\n",
    "        train_data = pd.DataFrame(train_data)\n",
    "        test_data = pd.DataFrame(test_data)\n",
    "    else:\n",
    "        mask = [\n",
    "            True if x == 1 else False\n",
    "            for x in np.random.uniform(0, 1, (len(data))) < 1 - test_ratio]\n",
    "        neg_mask = [not x for x in mask]\n",
    "        train_data, test_data = data[mask], data[neg_mask]\n",
    "    return train_data, test_data\n",
    "#@save\n",
    "def load_data_ml100k(data, num_users, num_items, feedback='explicit'):\n",
    "    users, items, scores = [], [], []\n",
    "    inter = np.zeros((num_items, num_users)) if feedback == 'explicit' else {}\n",
    "    for line in data.itertuples():\n",
    "        user_index, item_index = int(line[1] - 1), int(line[2] - 1)\n",
    "        score = int(line[3]) if feedback == 'explicit' else 1\n",
    "        users.append(user_index)\n",
    "        items.append(item_index)\n",
    "        scores.append(score)\n",
    "        if feedback == 'implicit':\n",
    "            inter.setdefault(user_index, []).append(item_index)\n",
    "        else:\n",
    "            inter[item_index, user_index] = score\n",
    "    return users, items, scores, inter"
   ]
  },
  {
   "cell_type": "code",
   "execution_count": 27,
   "id": "97f9b0fb",
   "metadata": {},
   "outputs": [],
   "source": [
    "split_mode='seq-aware'\n",
    "feedback='explicit'\n",
    "test_ratio=0.1\n",
    "# batch_size=256\n",
    "    \n",
    "\n",
    "data, num_users, num_items = read_data_ml100k()\n",
    "train_data, test_data = split_data_ml100k(data, num_users, num_items,\n",
    "                                          split_mode, test_ratio)\n",
    "\n",
    "train_u, train_i, train_r, _ = load_data_ml100k(train_data, num_users,\n",
    "                                                num_items, feedback)\n",
    "test_u, test_i, test_r, _ = load_data_ml100k(test_data, num_users,\n",
    "                                             num_items, feedback)"
   ]
  },
  {
   "cell_type": "code",
   "execution_count": 32,
   "id": "68b46221",
   "metadata": {},
   "outputs": [
    {
     "data": {
      "text/plain": [
       "6040"
      ]
     },
     "execution_count": 32,
     "metadata": {},
     "output_type": "execute_result"
    }
   ],
   "source": [
    "num_users"
   ]
  },
  {
   "cell_type": "code",
   "execution_count": 33,
   "id": "463fe3f3",
   "metadata": {},
   "outputs": [
    {
     "data": {
      "text/plain": [
       "3706"
      ]
     },
     "execution_count": 33,
     "metadata": {},
     "output_type": "execute_result"
    }
   ],
   "source": [
    "num_items"
   ]
  },
  {
   "cell_type": "code",
   "execution_count": 34,
   "id": "fd6a2040",
   "metadata": {},
   "outputs": [
    {
     "ename": "IndexError",
     "evalue": "index 3734 is out of bounds for axis 0 with size 3706",
     "output_type": "error",
     "traceback": [
      "\u001b[0;31m---------------------------------------------------------------------------\u001b[0m",
      "\u001b[0;31mIndexError\u001b[0m                                Traceback (most recent call last)",
      "\u001b[0;32m<ipython-input-34-01cdea9d81fa>\u001b[0m in \u001b[0;36m<module>\u001b[0;34m\u001b[0m\n\u001b[0;32m----> 1\u001b[0;31m train_u, train_i, train_r, _ = load_data_ml100k(train_data, num_users,\n\u001b[0m\u001b[1;32m      2\u001b[0m                                                 num_items, feedback)\n",
      "\u001b[0;32m<ipython-input-22-57610be4ceff>\u001b[0m in \u001b[0;36mload_data_ml100k\u001b[0;34m(data, num_users, num_items, feedback)\u001b[0m\n\u001b[1;32m     53\u001b[0m             \u001b[0minter\u001b[0m\u001b[0;34m.\u001b[0m\u001b[0msetdefault\u001b[0m\u001b[0;34m(\u001b[0m\u001b[0muser_index\u001b[0m\u001b[0;34m,\u001b[0m \u001b[0;34m[\u001b[0m\u001b[0;34m]\u001b[0m\u001b[0;34m)\u001b[0m\u001b[0;34m.\u001b[0m\u001b[0mappend\u001b[0m\u001b[0;34m(\u001b[0m\u001b[0mitem_index\u001b[0m\u001b[0;34m)\u001b[0m\u001b[0;34m\u001b[0m\u001b[0;34m\u001b[0m\u001b[0m\n\u001b[1;32m     54\u001b[0m         \u001b[0;32melse\u001b[0m\u001b[0;34m:\u001b[0m\u001b[0;34m\u001b[0m\u001b[0;34m\u001b[0m\u001b[0m\n\u001b[0;32m---> 55\u001b[0;31m             \u001b[0minter\u001b[0m\u001b[0;34m[\u001b[0m\u001b[0mitem_index\u001b[0m\u001b[0;34m,\u001b[0m \u001b[0muser_index\u001b[0m\u001b[0;34m]\u001b[0m \u001b[0;34m=\u001b[0m \u001b[0mscore\u001b[0m\u001b[0;34m\u001b[0m\u001b[0;34m\u001b[0m\u001b[0m\n\u001b[0m\u001b[1;32m     56\u001b[0m     \u001b[0;32mreturn\u001b[0m \u001b[0musers\u001b[0m\u001b[0;34m,\u001b[0m \u001b[0mitems\u001b[0m\u001b[0;34m,\u001b[0m \u001b[0mscores\u001b[0m\u001b[0;34m,\u001b[0m \u001b[0minter\u001b[0m\u001b[0;34m\u001b[0m\u001b[0;34m\u001b[0m\u001b[0m\n",
      "\u001b[0;31mIndexError\u001b[0m: index 3734 is out of bounds for axis 0 with size 3706"
     ]
    }
   ],
   "source": []
  },
  {
   "cell_type": "code",
   "execution_count": 35,
   "id": "aad0c503",
   "metadata": {},
   "outputs": [
    {
     "ename": "IndexError",
     "evalue": "index 3797 is out of bounds for axis 0 with size 3706",
     "output_type": "error",
     "traceback": [
      "\u001b[0;31m---------------------------------------------------------------------------\u001b[0m",
      "\u001b[0;31mIndexError\u001b[0m                                Traceback (most recent call last)",
      "\u001b[0;32m<ipython-input-35-d910b42d3846>\u001b[0m in \u001b[0;36m<module>\u001b[0;34m\u001b[0m\n\u001b[0;32m----> 1\u001b[0;31m test_u, test_i, test_r, _ = load_data_ml100k(test_data, num_users,\n\u001b[0m\u001b[1;32m      2\u001b[0m                                              num_items, feedback)\n",
      "\u001b[0;32m<ipython-input-22-57610be4ceff>\u001b[0m in \u001b[0;36mload_data_ml100k\u001b[0;34m(data, num_users, num_items, feedback)\u001b[0m\n\u001b[1;32m     53\u001b[0m             \u001b[0minter\u001b[0m\u001b[0;34m.\u001b[0m\u001b[0msetdefault\u001b[0m\u001b[0;34m(\u001b[0m\u001b[0muser_index\u001b[0m\u001b[0;34m,\u001b[0m \u001b[0;34m[\u001b[0m\u001b[0;34m]\u001b[0m\u001b[0;34m)\u001b[0m\u001b[0;34m.\u001b[0m\u001b[0mappend\u001b[0m\u001b[0;34m(\u001b[0m\u001b[0mitem_index\u001b[0m\u001b[0;34m)\u001b[0m\u001b[0;34m\u001b[0m\u001b[0;34m\u001b[0m\u001b[0m\n\u001b[1;32m     54\u001b[0m         \u001b[0;32melse\u001b[0m\u001b[0;34m:\u001b[0m\u001b[0;34m\u001b[0m\u001b[0;34m\u001b[0m\u001b[0m\n\u001b[0;32m---> 55\u001b[0;31m             \u001b[0minter\u001b[0m\u001b[0;34m[\u001b[0m\u001b[0mitem_index\u001b[0m\u001b[0;34m,\u001b[0m \u001b[0muser_index\u001b[0m\u001b[0;34m]\u001b[0m \u001b[0;34m=\u001b[0m \u001b[0mscore\u001b[0m\u001b[0;34m\u001b[0m\u001b[0;34m\u001b[0m\u001b[0m\n\u001b[0m\u001b[1;32m     56\u001b[0m     \u001b[0;32mreturn\u001b[0m \u001b[0musers\u001b[0m\u001b[0;34m,\u001b[0m \u001b[0mitems\u001b[0m\u001b[0;34m,\u001b[0m \u001b[0mscores\u001b[0m\u001b[0;34m,\u001b[0m \u001b[0minter\u001b[0m\u001b[0;34m\u001b[0m\u001b[0;34m\u001b[0m\u001b[0m\n",
      "\u001b[0;31mIndexError\u001b[0m: index 3797 is out of bounds for axis 0 with size 3706"
     ]
    }
   ],
   "source": []
  },
  {
   "cell_type": "markdown",
   "id": "973e9052",
   "metadata": {},
   "source": [
    "# Debug data "
   ]
  },
  {
   "cell_type": "code",
   "execution_count": 3,
   "id": "3b95b79a",
   "metadata": {},
   "outputs": [],
   "source": [
    "import pandas as pd\n",
    "import os\n",
    "from scripts.train_config import cleaned_data_dir, cleaned_file_name\n",
    "\n",
    "raw_data_dir = '../data/ml-1m/'\n",
    "\n",
    "output_dir = '../data/debug'\n",
    "\n",
    "raw_data_sep = b\"::\""
   ]
  },
  {
   "cell_type": "code",
   "execution_count": 4,
   "id": "c17ac002",
   "metadata": {
    "scrolled": false
   },
   "outputs": [
    {
     "name": "stderr",
     "output_type": "stream",
     "text": [
      "/Users/mac/opt/miniconda3/lib/python3.9/site-packages/pandas/util/_decorators.py:311: ParserWarning: Falling back to the 'python' engine because the 'c' engine does not support regex separators (separators > 1 char and different from '\\s+' are interpreted as regex); you can avoid this warning by specifying engine='python'.\n",
      "  return func(*args, **kwargs)\n"
     ]
    }
   ],
   "source": [
    "unames = ['user_id','gender','age','occupation','zip']\n",
    "user = pd.read_csv(os.path.join(raw_data_dir, 'users.dat'),sep='::',header=None,names=unames)\n",
    "rnames = ['user_id','movie_id','rating','timestamp']\n",
    "ratings = pd.read_csv(os.path.join(raw_data_dir, 'ratings.dat'),sep='::',header=None,names=rnames)"
   ]
  },
  {
   "cell_type": "code",
   "execution_count": 5,
   "id": "3776e43f",
   "metadata": {},
   "outputs": [
    {
     "data": {
      "text/html": [
       "<div>\n",
       "<style scoped>\n",
       "    .dataframe tbody tr th:only-of-type {\n",
       "        vertical-align: middle;\n",
       "    }\n",
       "\n",
       "    .dataframe tbody tr th {\n",
       "        vertical-align: top;\n",
       "    }\n",
       "\n",
       "    .dataframe thead th {\n",
       "        text-align: right;\n",
       "    }\n",
       "</style>\n",
       "<table border=\"1\" class=\"dataframe\">\n",
       "  <thead>\n",
       "    <tr style=\"text-align: right;\">\n",
       "      <th></th>\n",
       "      <th>user_id</th>\n",
       "      <th>gender</th>\n",
       "      <th>age</th>\n",
       "      <th>occupation</th>\n",
       "      <th>zip</th>\n",
       "    </tr>\n",
       "  </thead>\n",
       "  <tbody>\n",
       "    <tr>\n",
       "      <th>0</th>\n",
       "      <td>1</td>\n",
       "      <td>F</td>\n",
       "      <td>1</td>\n",
       "      <td>10</td>\n",
       "      <td>48067</td>\n",
       "    </tr>\n",
       "    <tr>\n",
       "      <th>1</th>\n",
       "      <td>2</td>\n",
       "      <td>M</td>\n",
       "      <td>56</td>\n",
       "      <td>16</td>\n",
       "      <td>70072</td>\n",
       "    </tr>\n",
       "    <tr>\n",
       "      <th>2</th>\n",
       "      <td>3</td>\n",
       "      <td>M</td>\n",
       "      <td>25</td>\n",
       "      <td>15</td>\n",
       "      <td>55117</td>\n",
       "    </tr>\n",
       "    <tr>\n",
       "      <th>3</th>\n",
       "      <td>4</td>\n",
       "      <td>M</td>\n",
       "      <td>45</td>\n",
       "      <td>7</td>\n",
       "      <td>02460</td>\n",
       "    </tr>\n",
       "    <tr>\n",
       "      <th>4</th>\n",
       "      <td>5</td>\n",
       "      <td>M</td>\n",
       "      <td>25</td>\n",
       "      <td>20</td>\n",
       "      <td>55455</td>\n",
       "    </tr>\n",
       "  </tbody>\n",
       "</table>\n",
       "</div>"
      ],
      "text/plain": [
       "   user_id gender  age  occupation    zip\n",
       "0        1      F    1          10  48067\n",
       "1        2      M   56          16  70072\n",
       "2        3      M   25          15  55117\n",
       "3        4      M   45           7  02460\n",
       "4        5      M   25          20  55455"
      ]
     },
     "execution_count": 5,
     "metadata": {},
     "output_type": "execute_result"
    }
   ],
   "source": [
    "user.head()"
   ]
  },
  {
   "cell_type": "code",
   "execution_count": 6,
   "id": "5df7a660",
   "metadata": {},
   "outputs": [
    {
     "data": {
      "text/html": [
       "<div>\n",
       "<style scoped>\n",
       "    .dataframe tbody tr th:only-of-type {\n",
       "        vertical-align: middle;\n",
       "    }\n",
       "\n",
       "    .dataframe tbody tr th {\n",
       "        vertical-align: top;\n",
       "    }\n",
       "\n",
       "    .dataframe thead th {\n",
       "        text-align: right;\n",
       "    }\n",
       "</style>\n",
       "<table border=\"1\" class=\"dataframe\">\n",
       "  <thead>\n",
       "    <tr style=\"text-align: right;\">\n",
       "      <th></th>\n",
       "      <th>user_id</th>\n",
       "      <th>gender</th>\n",
       "      <th>age</th>\n",
       "      <th>occupation</th>\n",
       "      <th>zip</th>\n",
       "    </tr>\n",
       "  </thead>\n",
       "  <tbody>\n",
       "    <tr>\n",
       "      <th>0</th>\n",
       "      <td>1</td>\n",
       "      <td>F</td>\n",
       "      <td>1</td>\n",
       "      <td>10</td>\n",
       "      <td>48067</td>\n",
       "    </tr>\n",
       "    <tr>\n",
       "      <th>1</th>\n",
       "      <td>2</td>\n",
       "      <td>M</td>\n",
       "      <td>56</td>\n",
       "      <td>16</td>\n",
       "      <td>70072</td>\n",
       "    </tr>\n",
       "    <tr>\n",
       "      <th>2</th>\n",
       "      <td>3</td>\n",
       "      <td>M</td>\n",
       "      <td>25</td>\n",
       "      <td>15</td>\n",
       "      <td>55117</td>\n",
       "    </tr>\n",
       "    <tr>\n",
       "      <th>3</th>\n",
       "      <td>4</td>\n",
       "      <td>M</td>\n",
       "      <td>45</td>\n",
       "      <td>7</td>\n",
       "      <td>02460</td>\n",
       "    </tr>\n",
       "    <tr>\n",
       "      <th>4</th>\n",
       "      <td>5</td>\n",
       "      <td>M</td>\n",
       "      <td>25</td>\n",
       "      <td>20</td>\n",
       "      <td>55455</td>\n",
       "    </tr>\n",
       "    <tr>\n",
       "      <th>...</th>\n",
       "      <td>...</td>\n",
       "      <td>...</td>\n",
       "      <td>...</td>\n",
       "      <td>...</td>\n",
       "      <td>...</td>\n",
       "    </tr>\n",
       "    <tr>\n",
       "      <th>94</th>\n",
       "      <td>95</td>\n",
       "      <td>M</td>\n",
       "      <td>45</td>\n",
       "      <td>0</td>\n",
       "      <td>98201</td>\n",
       "    </tr>\n",
       "    <tr>\n",
       "      <th>95</th>\n",
       "      <td>96</td>\n",
       "      <td>F</td>\n",
       "      <td>25</td>\n",
       "      <td>16</td>\n",
       "      <td>78028</td>\n",
       "    </tr>\n",
       "    <tr>\n",
       "      <th>96</th>\n",
       "      <td>97</td>\n",
       "      <td>F</td>\n",
       "      <td>35</td>\n",
       "      <td>3</td>\n",
       "      <td>66210</td>\n",
       "    </tr>\n",
       "    <tr>\n",
       "      <th>97</th>\n",
       "      <td>98</td>\n",
       "      <td>F</td>\n",
       "      <td>35</td>\n",
       "      <td>7</td>\n",
       "      <td>33547</td>\n",
       "    </tr>\n",
       "    <tr>\n",
       "      <th>98</th>\n",
       "      <td>99</td>\n",
       "      <td>F</td>\n",
       "      <td>1</td>\n",
       "      <td>10</td>\n",
       "      <td>19390</td>\n",
       "    </tr>\n",
       "  </tbody>\n",
       "</table>\n",
       "<p>99 rows × 5 columns</p>\n",
       "</div>"
      ],
      "text/plain": [
       "    user_id gender  age  occupation    zip\n",
       "0         1      F    1          10  48067\n",
       "1         2      M   56          16  70072\n",
       "2         3      M   25          15  55117\n",
       "3         4      M   45           7  02460\n",
       "4         5      M   25          20  55455\n",
       "..      ...    ...  ...         ...    ...\n",
       "94       95      M   45           0  98201\n",
       "95       96      F   25          16  78028\n",
       "96       97      F   35           3  66210\n",
       "97       98      F   35           7  33547\n",
       "98       99      F    1          10  19390\n",
       "\n",
       "[99 rows x 5 columns]"
      ]
     },
     "execution_count": 6,
     "metadata": {},
     "output_type": "execute_result"
    }
   ],
   "source": [
    "user[user['user_id'].isin(range(100))]"
   ]
  },
  {
   "cell_type": "code",
   "execution_count": 7,
   "id": "26f2508d",
   "metadata": {},
   "outputs": [
    {
     "name": "stderr",
     "output_type": "stream",
     "text": [
      "/Users/mac/opt/miniconda3/lib/python3.9/site-packages/pandas/util/_decorators.py:311: ParserWarning: Falling back to the 'python' engine because the 'c' engine does not support regex separators (separators > 1 char and different from '\\s+' are interpreted as regex); you can avoid this warning by specifying engine='python'.\n",
      "  return func(*args, **kwargs)\n"
     ]
    }
   ],
   "source": [
    "mnames = ['movie_id','title','genres']\n",
    "movies = pd.read_csv(os.path.join(raw_data_dir, 'movies.dat'),sep='::',header=None,names=mnames, encoding='ISO-8859-1')"
   ]
  },
  {
   "cell_type": "code",
   "execution_count": 8,
   "id": "c37974b3",
   "metadata": {},
   "outputs": [
    {
     "name": "stdout",
     "output_type": "stream",
     "text": [
      "README      movies.dat  ratings.dat users.dat\r\n"
     ]
    }
   ],
   "source": [
    "! ls {raw_data_dir}"
   ]
  },
  {
   "cell_type": "code",
   "execution_count": 9,
   "id": "e183f879",
   "metadata": {},
   "outputs": [
    {
     "data": {
      "text/html": [
       "<div>\n",
       "<style scoped>\n",
       "    .dataframe tbody tr th:only-of-type {\n",
       "        vertical-align: middle;\n",
       "    }\n",
       "\n",
       "    .dataframe tbody tr th {\n",
       "        vertical-align: top;\n",
       "    }\n",
       "\n",
       "    .dataframe thead th {\n",
       "        text-align: right;\n",
       "    }\n",
       "</style>\n",
       "<table border=\"1\" class=\"dataframe\">\n",
       "  <thead>\n",
       "    <tr style=\"text-align: right;\">\n",
       "      <th></th>\n",
       "      <th>movie_id</th>\n",
       "      <th>title</th>\n",
       "      <th>genres</th>\n",
       "    </tr>\n",
       "  </thead>\n",
       "  <tbody>\n",
       "    <tr>\n",
       "      <th>0</th>\n",
       "      <td>1</td>\n",
       "      <td>Toy Story (1995)</td>\n",
       "      <td>Animation|Children's|Comedy</td>\n",
       "    </tr>\n",
       "    <tr>\n",
       "      <th>1</th>\n",
       "      <td>2</td>\n",
       "      <td>Jumanji (1995)</td>\n",
       "      <td>Adventure|Children's|Fantasy</td>\n",
       "    </tr>\n",
       "    <tr>\n",
       "      <th>2</th>\n",
       "      <td>3</td>\n",
       "      <td>Grumpier Old Men (1995)</td>\n",
       "      <td>Comedy|Romance</td>\n",
       "    </tr>\n",
       "    <tr>\n",
       "      <th>3</th>\n",
       "      <td>4</td>\n",
       "      <td>Waiting to Exhale (1995)</td>\n",
       "      <td>Comedy|Drama</td>\n",
       "    </tr>\n",
       "    <tr>\n",
       "      <th>4</th>\n",
       "      <td>5</td>\n",
       "      <td>Father of the Bride Part II (1995)</td>\n",
       "      <td>Comedy</td>\n",
       "    </tr>\n",
       "  </tbody>\n",
       "</table>\n",
       "</div>"
      ],
      "text/plain": [
       "   movie_id                               title                        genres\n",
       "0         1                    Toy Story (1995)   Animation|Children's|Comedy\n",
       "1         2                      Jumanji (1995)  Adventure|Children's|Fantasy\n",
       "2         3             Grumpier Old Men (1995)                Comedy|Romance\n",
       "3         4            Waiting to Exhale (1995)                  Comedy|Drama\n",
       "4         5  Father of the Bride Part II (1995)                        Comedy"
      ]
     },
     "execution_count": 9,
     "metadata": {},
     "output_type": "execute_result"
    }
   ],
   "source": [
    "movies.head()"
   ]
  },
  {
   "cell_type": "code",
   "execution_count": 24,
   "id": "773c7702",
   "metadata": {},
   "outputs": [],
   "source": [
    "def save_csv(df, file_path):\n",
    "    df['target'] = df.apply(lambda row: '::'.join([str(ele) for ele in row.values]).replace('\"', \"\"), axis=1)\n",
    "    df[['target']].to_csv(file_path, index=False, header=None)"
   ]
  },
  {
   "cell_type": "code",
   "execution_count": 25,
   "id": "d11ec195",
   "metadata": {},
   "outputs": [
    {
     "name": "stderr",
     "output_type": "stream",
     "text": [
      "<ipython-input-24-711f5dd04adf>:2: SettingWithCopyWarning: \n",
      "A value is trying to be set on a copy of a slice from a DataFrame.\n",
      "Try using .loc[row_indexer,col_indexer] = value instead\n",
      "\n",
      "See the caveats in the documentation: https://pandas.pydata.org/pandas-docs/stable/user_guide/indexing.html#returning-a-view-versus-a-copy\n",
      "  df['target'] = df.apply(lambda row: '::'.join([str(ele) for ele in row.values]).replace('\"', \"\"), axis=1)\n"
     ]
    }
   ],
   "source": [
    "user_lst = range(100)\n",
    "\n",
    "target_user = user[user['user_id'].isin(user_lst)]\n",
    "target_ratings = ratings[ratings['user_id'].isin(user_lst)]\n",
    "target_movies = movies[movies['movie_id'].isin(target_ratings['movie_id'].values)]\n",
    "\n",
    "save_csv(target_user, os.path.join(output_dir, 'users.dat'))\n",
    "save_csv(target_ratings, os.path.join(output_dir, 'ratings.dat'))\n",
    "save_csv(target_movies, os.path.join(output_dir, 'movies.dat'))\n",
    "\n",
    "# target_user.to_csv(os.path.join(output_dir, 'users.dat'), index=False, header=None, sep=raw_data_sep)"
   ]
  },
  {
   "cell_type": "code",
   "execution_count": 26,
   "id": "c528a324",
   "metadata": {},
   "outputs": [
    {
     "data": {
      "text/html": [
       "<div>\n",
       "<style scoped>\n",
       "    .dataframe tbody tr th:only-of-type {\n",
       "        vertical-align: middle;\n",
       "    }\n",
       "\n",
       "    .dataframe tbody tr th {\n",
       "        vertical-align: top;\n",
       "    }\n",
       "\n",
       "    .dataframe thead th {\n",
       "        text-align: right;\n",
       "    }\n",
       "</style>\n",
       "<table border=\"1\" class=\"dataframe\">\n",
       "  <thead>\n",
       "    <tr style=\"text-align: right;\">\n",
       "      <th></th>\n",
       "      <th>movie_id</th>\n",
       "      <th>title</th>\n",
       "      <th>genres</th>\n",
       "      <th>target</th>\n",
       "    </tr>\n",
       "  </thead>\n",
       "  <tbody>\n",
       "    <tr>\n",
       "      <th>0</th>\n",
       "      <td>1</td>\n",
       "      <td>Toy Story (1995)</td>\n",
       "      <td>Animation|Children's|Comedy</td>\n",
       "      <td>1::Toy Story (1995)::Animation|Children's|Comedy</td>\n",
       "    </tr>\n",
       "    <tr>\n",
       "      <th>1</th>\n",
       "      <td>2</td>\n",
       "      <td>Jumanji (1995)</td>\n",
       "      <td>Adventure|Children's|Fantasy</td>\n",
       "      <td>2::Jumanji (1995)::Adventure|Children's|Fantasy</td>\n",
       "    </tr>\n",
       "    <tr>\n",
       "      <th>2</th>\n",
       "      <td>3</td>\n",
       "      <td>Grumpier Old Men (1995)</td>\n",
       "      <td>Comedy|Romance</td>\n",
       "      <td>3::Grumpier Old Men (1995)::Comedy|Romance</td>\n",
       "    </tr>\n",
       "    <tr>\n",
       "      <th>3</th>\n",
       "      <td>4</td>\n",
       "      <td>Waiting to Exhale (1995)</td>\n",
       "      <td>Comedy|Drama</td>\n",
       "      <td>4::Waiting to Exhale (1995)::Comedy|Drama</td>\n",
       "    </tr>\n",
       "    <tr>\n",
       "      <th>4</th>\n",
       "      <td>5</td>\n",
       "      <td>Father of the Bride Part II (1995)</td>\n",
       "      <td>Comedy</td>\n",
       "      <td>5::Father of the Bride Part II (1995)::Comedy</td>\n",
       "    </tr>\n",
       "    <tr>\n",
       "      <th>5</th>\n",
       "      <td>6</td>\n",
       "      <td>Heat (1995)</td>\n",
       "      <td>Action|Crime|Thriller</td>\n",
       "      <td>6::Heat (1995)::Action|Crime|Thriller</td>\n",
       "    </tr>\n",
       "    <tr>\n",
       "      <th>6</th>\n",
       "      <td>7</td>\n",
       "      <td>Sabrina (1995)</td>\n",
       "      <td>Comedy|Romance</td>\n",
       "      <td>7::Sabrina (1995)::Comedy|Romance</td>\n",
       "    </tr>\n",
       "    <tr>\n",
       "      <th>7</th>\n",
       "      <td>8</td>\n",
       "      <td>Tom and Huck (1995)</td>\n",
       "      <td>Adventure|Children's</td>\n",
       "      <td>8::Tom and Huck (1995)::Adventure|Children's</td>\n",
       "    </tr>\n",
       "    <tr>\n",
       "      <th>8</th>\n",
       "      <td>9</td>\n",
       "      <td>Sudden Death (1995)</td>\n",
       "      <td>Action</td>\n",
       "      <td>9::Sudden Death (1995)::Action</td>\n",
       "    </tr>\n",
       "    <tr>\n",
       "      <th>9</th>\n",
       "      <td>10</td>\n",
       "      <td>GoldenEye (1995)</td>\n",
       "      <td>Action|Adventure|Thriller</td>\n",
       "      <td>10::GoldenEye (1995)::Action|Adventure|Thriller</td>\n",
       "    </tr>\n",
       "    <tr>\n",
       "      <th>10</th>\n",
       "      <td>11</td>\n",
       "      <td>American President, The (1995)</td>\n",
       "      <td>Comedy|Drama|Romance</td>\n",
       "      <td>11::American President, The (1995)::Comedy|Dra...</td>\n",
       "    </tr>\n",
       "    <tr>\n",
       "      <th>11</th>\n",
       "      <td>12</td>\n",
       "      <td>Dracula: Dead and Loving It (1995)</td>\n",
       "      <td>Comedy|Horror</td>\n",
       "      <td>12::Dracula: Dead and Loving It (1995)::Comedy...</td>\n",
       "    </tr>\n",
       "  </tbody>\n",
       "</table>\n",
       "</div>"
      ],
      "text/plain": [
       "    movie_id                               title  \\\n",
       "0          1                    Toy Story (1995)   \n",
       "1          2                      Jumanji (1995)   \n",
       "2          3             Grumpier Old Men (1995)   \n",
       "3          4            Waiting to Exhale (1995)   \n",
       "4          5  Father of the Bride Part II (1995)   \n",
       "5          6                         Heat (1995)   \n",
       "6          7                      Sabrina (1995)   \n",
       "7          8                 Tom and Huck (1995)   \n",
       "8          9                 Sudden Death (1995)   \n",
       "9         10                    GoldenEye (1995)   \n",
       "10        11      American President, The (1995)   \n",
       "11        12  Dracula: Dead and Loving It (1995)   \n",
       "\n",
       "                          genres  \\\n",
       "0    Animation|Children's|Comedy   \n",
       "1   Adventure|Children's|Fantasy   \n",
       "2                 Comedy|Romance   \n",
       "3                   Comedy|Drama   \n",
       "4                         Comedy   \n",
       "5          Action|Crime|Thriller   \n",
       "6                 Comedy|Romance   \n",
       "7           Adventure|Children's   \n",
       "8                         Action   \n",
       "9      Action|Adventure|Thriller   \n",
       "10          Comedy|Drama|Romance   \n",
       "11                 Comedy|Horror   \n",
       "\n",
       "                                               target  \n",
       "0    1::Toy Story (1995)::Animation|Children's|Comedy  \n",
       "1     2::Jumanji (1995)::Adventure|Children's|Fantasy  \n",
       "2          3::Grumpier Old Men (1995)::Comedy|Romance  \n",
       "3           4::Waiting to Exhale (1995)::Comedy|Drama  \n",
       "4       5::Father of the Bride Part II (1995)::Comedy  \n",
       "5               6::Heat (1995)::Action|Crime|Thriller  \n",
       "6                   7::Sabrina (1995)::Comedy|Romance  \n",
       "7        8::Tom and Huck (1995)::Adventure|Children's  \n",
       "8                      9::Sudden Death (1995)::Action  \n",
       "9     10::GoldenEye (1995)::Action|Adventure|Thriller  \n",
       "10  11::American President, The (1995)::Comedy|Dra...  \n",
       "11  12::Dracula: Dead and Loving It (1995)::Comedy...  "
      ]
     },
     "execution_count": 26,
     "metadata": {},
     "output_type": "execute_result"
    }
   ],
   "source": [
    "target_movies.head(12)"
   ]
  },
  {
   "cell_type": "code",
   "execution_count": 17,
   "id": "e0665dc7",
   "metadata": {},
   "outputs": [
    {
     "name": "stderr",
     "output_type": "stream",
     "text": [
      "<ipython-input-10-28e43aa7cdc1>:2: SettingWithCopyWarning: \n",
      "A value is trying to be set on a copy of a slice from a DataFrame.\n",
      "Try using .loc[row_indexer,col_indexer] = value instead\n",
      "\n",
      "See the caveats in the documentation: https://pandas.pydata.org/pandas-docs/stable/user_guide/indexing.html#returning-a-view-versus-a-copy\n",
      "  df['target'] = df.apply(lambda row: '::'.join([str(ele) for ele in row.values]), axis=1)\n"
     ]
    }
   ],
   "source": []
  },
  {
   "cell_type": "code",
   "execution_count": 23,
   "id": "dbb10551",
   "metadata": {},
   "outputs": [
    {
     "name": "stderr",
     "output_type": "stream",
     "text": [
      "<ipython-input-22-711f5dd04adf>:2: SettingWithCopyWarning: \n",
      "A value is trying to be set on a copy of a slice from a DataFrame.\n",
      "Try using .loc[row_indexer,col_indexer] = value instead\n",
      "\n",
      "See the caveats in the documentation: https://pandas.pydata.org/pandas-docs/stable/user_guide/indexing.html#returning-a-view-versus-a-copy\n",
      "  df['target'] = df.apply(lambda row: '::'.join([str(ele) for ele in row.values]).replace('\"', \"\"), axis=1)\n"
     ]
    }
   ],
   "source": [
    "save_csv(target_movies, os.path.join(output_dir, 'movies.dat'))\n"
   ]
  },
  {
   "cell_type": "code",
   "execution_count": 14,
   "id": "1cfeb850",
   "metadata": {
    "scrolled": false
   },
   "outputs": [
    {
     "name": "stderr",
     "output_type": "stream",
     "text": [
      "<ipython-input-14-3f546aaad952>:2: SettingWithCopyWarning: \n",
      "A value is trying to be set on a copy of a slice from a DataFrame.\n",
      "Try using .loc[row_indexer,col_indexer] = value instead\n",
      "\n",
      "See the caveats in the documentation: https://pandas.pydata.org/pandas-docs/stable/user_guide/indexing.html#returning-a-view-versus-a-copy\n",
      "  df['target'] = df.apply(lambda row: '::'.join([str(ele) for ele in row.values]), axis=1)\n"
     ]
    }
   ],
   "source": [
    "df = target_movies\n",
    "df['target'] = df.apply(lambda row: '::'.join([str(ele) for ele in row.values]), axis=1)"
   ]
  },
  {
   "cell_type": "code",
   "execution_count": 16,
   "id": "43bb091f",
   "metadata": {},
   "outputs": [
    {
     "data": {
      "text/html": [
       "<div>\n",
       "<style scoped>\n",
       "    .dataframe tbody tr th:only-of-type {\n",
       "        vertical-align: middle;\n",
       "    }\n",
       "\n",
       "    .dataframe tbody tr th {\n",
       "        vertical-align: top;\n",
       "    }\n",
       "\n",
       "    .dataframe thead th {\n",
       "        text-align: right;\n",
       "    }\n",
       "</style>\n",
       "<table border=\"1\" class=\"dataframe\">\n",
       "  <thead>\n",
       "    <tr style=\"text-align: right;\">\n",
       "      <th></th>\n",
       "      <th>movie_id</th>\n",
       "      <th>title</th>\n",
       "      <th>genres</th>\n",
       "      <th>target</th>\n",
       "    </tr>\n",
       "  </thead>\n",
       "  <tbody>\n",
       "    <tr>\n",
       "      <th>0</th>\n",
       "      <td>1</td>\n",
       "      <td>Toy Story (1995)</td>\n",
       "      <td>Animation|Children's|Comedy</td>\n",
       "      <td>1::Toy Story (1995)::Animation|Children's|Come...</td>\n",
       "    </tr>\n",
       "    <tr>\n",
       "      <th>1</th>\n",
       "      <td>2</td>\n",
       "      <td>Jumanji (1995)</td>\n",
       "      <td>Adventure|Children's|Fantasy</td>\n",
       "      <td>2::Jumanji (1995)::Adventure|Children's|Fantas...</td>\n",
       "    </tr>\n",
       "    <tr>\n",
       "      <th>2</th>\n",
       "      <td>3</td>\n",
       "      <td>Grumpier Old Men (1995)</td>\n",
       "      <td>Comedy|Romance</td>\n",
       "      <td>3::Grumpier Old Men (1995)::Comedy|Romance::3:...</td>\n",
       "    </tr>\n",
       "    <tr>\n",
       "      <th>3</th>\n",
       "      <td>4</td>\n",
       "      <td>Waiting to Exhale (1995)</td>\n",
       "      <td>Comedy|Drama</td>\n",
       "      <td>4::Waiting to Exhale (1995)::Comedy|Drama::4::...</td>\n",
       "    </tr>\n",
       "    <tr>\n",
       "      <th>4</th>\n",
       "      <td>5</td>\n",
       "      <td>Father of the Bride Part II (1995)</td>\n",
       "      <td>Comedy</td>\n",
       "      <td>5::Father of the Bride Part II (1995)::Comedy:...</td>\n",
       "    </tr>\n",
       "    <tr>\n",
       "      <th>5</th>\n",
       "      <td>6</td>\n",
       "      <td>Heat (1995)</td>\n",
       "      <td>Action|Crime|Thriller</td>\n",
       "      <td>6::Heat (1995)::Action|Crime|Thriller::6::Heat...</td>\n",
       "    </tr>\n",
       "    <tr>\n",
       "      <th>6</th>\n",
       "      <td>7</td>\n",
       "      <td>Sabrina (1995)</td>\n",
       "      <td>Comedy|Romance</td>\n",
       "      <td>7::Sabrina (1995)::Comedy|Romance::7::Sabrina ...</td>\n",
       "    </tr>\n",
       "    <tr>\n",
       "      <th>7</th>\n",
       "      <td>8</td>\n",
       "      <td>Tom and Huck (1995)</td>\n",
       "      <td>Adventure|Children's</td>\n",
       "      <td>8::Tom and Huck (1995)::Adventure|Children's::...</td>\n",
       "    </tr>\n",
       "    <tr>\n",
       "      <th>8</th>\n",
       "      <td>9</td>\n",
       "      <td>Sudden Death (1995)</td>\n",
       "      <td>Action</td>\n",
       "      <td>9::Sudden Death (1995)::Action::9::Sudden Deat...</td>\n",
       "    </tr>\n",
       "    <tr>\n",
       "      <th>9</th>\n",
       "      <td>10</td>\n",
       "      <td>GoldenEye (1995)</td>\n",
       "      <td>Action|Adventure|Thriller</td>\n",
       "      <td>10::GoldenEye (1995)::Action|Adventure|Thrille...</td>\n",
       "    </tr>\n",
       "    <tr>\n",
       "      <th>10</th>\n",
       "      <td>11</td>\n",
       "      <td>American President, The (1995)</td>\n",
       "      <td>Comedy|Drama|Romance</td>\n",
       "      <td>11::American President, The (1995)::Comedy|Dra...</td>\n",
       "    </tr>\n",
       "    <tr>\n",
       "      <th>11</th>\n",
       "      <td>12</td>\n",
       "      <td>Dracula: Dead and Loving It (1995)</td>\n",
       "      <td>Comedy|Horror</td>\n",
       "      <td>12::Dracula: Dead and Loving It (1995)::Comedy...</td>\n",
       "    </tr>\n",
       "    <tr>\n",
       "      <th>12</th>\n",
       "      <td>13</td>\n",
       "      <td>Balto (1995)</td>\n",
       "      <td>Animation|Children's</td>\n",
       "      <td>13::Balto (1995)::Animation|Children's::13::Ba...</td>\n",
       "    </tr>\n",
       "    <tr>\n",
       "      <th>13</th>\n",
       "      <td>14</td>\n",
       "      <td>Nixon (1995)</td>\n",
       "      <td>Drama</td>\n",
       "      <td>14::Nixon (1995)::Drama::14::Nixon (1995)::Drama</td>\n",
       "    </tr>\n",
       "  </tbody>\n",
       "</table>\n",
       "</div>"
      ],
      "text/plain": [
       "    movie_id                               title  \\\n",
       "0          1                    Toy Story (1995)   \n",
       "1          2                      Jumanji (1995)   \n",
       "2          3             Grumpier Old Men (1995)   \n",
       "3          4            Waiting to Exhale (1995)   \n",
       "4          5  Father of the Bride Part II (1995)   \n",
       "5          6                         Heat (1995)   \n",
       "6          7                      Sabrina (1995)   \n",
       "7          8                 Tom and Huck (1995)   \n",
       "8          9                 Sudden Death (1995)   \n",
       "9         10                    GoldenEye (1995)   \n",
       "10        11      American President, The (1995)   \n",
       "11        12  Dracula: Dead and Loving It (1995)   \n",
       "12        13                        Balto (1995)   \n",
       "13        14                        Nixon (1995)   \n",
       "\n",
       "                          genres  \\\n",
       "0    Animation|Children's|Comedy   \n",
       "1   Adventure|Children's|Fantasy   \n",
       "2                 Comedy|Romance   \n",
       "3                   Comedy|Drama   \n",
       "4                         Comedy   \n",
       "5          Action|Crime|Thriller   \n",
       "6                 Comedy|Romance   \n",
       "7           Adventure|Children's   \n",
       "8                         Action   \n",
       "9      Action|Adventure|Thriller   \n",
       "10          Comedy|Drama|Romance   \n",
       "11                 Comedy|Horror   \n",
       "12          Animation|Children's   \n",
       "13                         Drama   \n",
       "\n",
       "                                               target  \n",
       "0   1::Toy Story (1995)::Animation|Children's|Come...  \n",
       "1   2::Jumanji (1995)::Adventure|Children's|Fantas...  \n",
       "2   3::Grumpier Old Men (1995)::Comedy|Romance::3:...  \n",
       "3   4::Waiting to Exhale (1995)::Comedy|Drama::4::...  \n",
       "4   5::Father of the Bride Part II (1995)::Comedy:...  \n",
       "5   6::Heat (1995)::Action|Crime|Thriller::6::Heat...  \n",
       "6   7::Sabrina (1995)::Comedy|Romance::7::Sabrina ...  \n",
       "7   8::Tom and Huck (1995)::Adventure|Children's::...  \n",
       "8   9::Sudden Death (1995)::Action::9::Sudden Deat...  \n",
       "9   10::GoldenEye (1995)::Action|Adventure|Thrille...  \n",
       "10  11::American President, The (1995)::Comedy|Dra...  \n",
       "11  12::Dracula: Dead and Loving It (1995)::Comedy...  \n",
       "12  13::Balto (1995)::Animation|Children's::13::Ba...  \n",
       "13   14::Nixon (1995)::Drama::14::Nixon (1995)::Drama  "
      ]
     },
     "execution_count": 16,
     "metadata": {},
     "output_type": "execute_result"
    }
   ],
   "source": [
    "df.head(14)"
   ]
  },
  {
   "cell_type": "code",
   "execution_count": 72,
   "id": "57e1448d",
   "metadata": {
    "scrolled": true
   },
   "outputs": [
    {
     "data": {
      "text/plain": [
       "\"1::Toy Story (1995)::Animation|Children's|Comedy\""
      ]
     },
     "execution_count": 72,
     "metadata": {},
     "output_type": "execute_result"
    }
   ],
   "source": [
    "'::'.join([str(ele) for ele in target_movies.loc[0].values])"
   ]
  },
  {
   "cell_type": "markdown",
   "id": "2285c2b4",
   "metadata": {},
   "source": [
    "# XGB + LR "
   ]
  },
  {
   "cell_type": "code",
   "execution_count": 2,
   "id": "65b9e667",
   "metadata": {},
   "outputs": [],
   "source": [
    "# -*- coding: utf-8 -*-\n",
    "# @Author  : Hippo \n",
    "import numpy as np\n",
    "import pandas as pd\n",
    "import xgboost as xgb\n",
    "from sklearn.datasets import load_svmlight_file\n",
    "from sklearn.model_selection import train_test_split\n",
    "from sklearn.linear_model import LogisticRegression\n",
    "from sklearn.metrics import roc_curve, auc, roc_auc_score\n",
    "# from sklearn.externals import joblib\n",
    "from sklearn.preprocessing import  OneHotEncoder\n",
    "import numpy as np\n",
    "from scipy.sparse import hstack"
   ]
  },
  {
   "cell_type": "code",
   "execution_count": 3,
   "id": "30230d15",
   "metadata": {},
   "outputs": [
    {
     "name": "stdout",
     "output_type": "stream",
     "text": [
      "\u001b[34massets\u001b[m\u001b[m                        ncf_train.log\r\n",
      "\u001b[34mdebug\u001b[m\u001b[m                         preprocess.pkl\r\n",
      "\u001b[34meval\u001b[m\u001b[m                          saved_model.pb\r\n",
      "explicit_train.csv            test.csv\r\n",
      "\u001b[34mghouls-goblins-and-ghosts-boo\u001b[m\u001b[m \u001b[34mvariables\u001b[m\u001b[m\r\n"
     ]
    }
   ],
   "source": [
    "! ls ../logs"
   ]
  },
  {
   "cell_type": "code",
   "execution_count": 6,
   "id": "7bd4636c",
   "metadata": {},
   "outputs": [],
   "source": [
    "path = '../logs/ghouls-goblins-and-ghosts-boo/train.csv.zip'\n",
    "data = pd.read_csv(path)"
   ]
  },
  {
   "cell_type": "code",
   "execution_count": 7,
   "id": "47b598e3",
   "metadata": {},
   "outputs": [
    {
     "name": "stdout",
     "output_type": "stream",
     "text": [
      "<class 'pandas.core.frame.DataFrame'>\n",
      "RangeIndex: 371 entries, 0 to 370\n",
      "Data columns (total 7 columns):\n",
      " #   Column         Non-Null Count  Dtype  \n",
      "---  ------         --------------  -----  \n",
      " 0   id             371 non-null    int64  \n",
      " 1   bone_length    371 non-null    float64\n",
      " 2   rotting_flesh  371 non-null    float64\n",
      " 3   hair_length    371 non-null    float64\n",
      " 4   has_soul       371 non-null    float64\n",
      " 5   color          371 non-null    object \n",
      " 6   type           371 non-null    object \n",
      "dtypes: float64(4), int64(1), object(2)\n",
      "memory usage: 20.4+ KB\n"
     ]
    }
   ],
   "source": [
    "data.info()"
   ]
  },
  {
   "cell_type": "code",
   "execution_count": 8,
   "id": "72f3a398",
   "metadata": {},
   "outputs": [],
   "source": [
    "data = data.dropna()\n",
    "data = data.drop(['id','color'],1)"
   ]
  },
  {
   "cell_type": "code",
   "execution_count": 10,
   "id": "3326ee56",
   "metadata": {},
   "outputs": [],
   "source": [
    "column = data.columns\n",
    "X = data[column[:-1]]\n",
    "Y = data[column[-1]]\n",
    "X_all, y_all = X,Y\n",
    "X_train, X_test, y_train, y_test = train_test_split(X_all, y_all, test_size = 0.3, random_state = 42)\n"
   ]
  },
  {
   "cell_type": "code",
   "execution_count": 11,
   "id": "2eab7e3c",
   "metadata": {},
   "outputs": [
    {
     "name": "stdout",
     "output_type": "stream",
     "text": [
      "[09:01:08] WARNING: /opt/concourse/worker/volumes/live/7a2b9f41-3287-451b-6691-43e9a6c0910f/volume/xgboost-split_1619728204606/work/src/learner.cc:1061: Starting in XGBoost 1.3.0, the default evaluation metric used with the objective 'multi:softprob' was changed from 'merror' to 'mlogloss'. Explicitly set eval_metric if you'd like to restore the old behavior.\n",
      "xgboost test auc: 0.85677\n"
     ]
    },
    {
     "name": "stderr",
     "output_type": "stream",
     "text": [
      "/Users/mac/opt/miniconda3/envs/rec_sys/lib/python3.6/site-packages/xgboost/sklearn.py:888: UserWarning: The use of label encoder in XGBClassifier is deprecated and will be removed in a future release. To remove this warning, do the following: 1) Pass option use_label_encoder=False when constructing XGBClassifier object; and 2) Encode your labels (y) as integers starting with 0, i.e. 0, 1, 2, ..., [num_class - 1].\n",
      "  warnings.warn(label_encoder_deprecation_msg, UserWarning)\n"
     ]
    }
   ],
   "source": [
    "model = xgb.XGBClassifier(nthread=4,     #含义：nthread=-1时，使用全部CPU进行并行运算（默认）, nthread=1时，使用1个CPU进行运算。\n",
    "                          learning_rate=0.08,    #含义：学习率，控制每次迭代更新权重时的步长，默认0.3。调参：值越小，训练越慢。典型值为0.01-0.2。\n",
    "                          n_estimators=50,       #含义：总共迭代的次数，即决策树的个数\n",
    "                          max_depth=5,           #含义：树的深度，默认值为6，典型值3-10。调参：值越大，越容易过拟合；值越小，越容易欠拟合\n",
    "                          gamma=0,               #含义：惩罚项系数，指定节点分裂所需的最小损失函数下降值。\n",
    "                          subsample=0.9,       #含义：训练每棵树时，使用的数据占全部训练集的比例。默认值为1，典型值为0.5-1。调参：防止overfitting。\n",
    "                          colsample_bytree=0.5) #训练每棵树时，使用的特征占全部特征的比例。默认值为1，典型值为0.5-1。调参：防止overfitting。\n",
    "\n",
    "\n",
    "model.fit(X_train.values, y_train.values)\n",
    "# 预测及 AUC 评测\n",
    "y_pred_test = model.predict_proba(X_test.values)\n",
    "xgb_test_auc = roc_auc_score(pd.get_dummies(y_test), y_pred_test)\n",
    "print('xgboost test auc: %.5f' % xgb_test_auc)"
   ]
  },
  {
   "cell_type": "code",
   "execution_count": 18,
   "id": "569de1c9",
   "metadata": {},
   "outputs": [
    {
     "data": {
      "text/plain": [
       "array([[10, 24, 12, ..., 14,  6, 12],\n",
       "       [19, 26, 25, ..., 12, 18, 16],\n",
       "       [18, 35, 23, ..., 10, 18, 16],\n",
       "       ...,\n",
       "       [18,  9, 24, ..., 21, 13, 16],\n",
       "       [18, 30, 22, ..., 16,  8, 16],\n",
       "       [11,  9, 10, ..., 21, 11,  7]], dtype=int32)"
      ]
     },
     "execution_count": 18,
     "metadata": {},
     "output_type": "execute_result"
    }
   ],
   "source": [
    "X_train_leaves"
   ]
  },
  {
   "cell_type": "code",
   "execution_count": null,
   "id": "8ea16742",
   "metadata": {},
   "outputs": [],
   "source": []
  },
  {
   "cell_type": "code",
   "execution_count": 20,
   "id": "10c70f22",
   "metadata": {},
   "outputs": [
    {
     "data": {
      "text/plain": [
       "(371, 2231)"
      ]
     },
     "execution_count": 20,
     "metadata": {},
     "output_type": "execute_result"
    }
   ],
   "source": [
    "X_trans.shape"
   ]
  },
  {
   "cell_type": "code",
   "execution_count": 22,
   "id": "e59c4d8a",
   "metadata": {},
   "outputs": [
    {
     "data": {
      "text/plain": [
       "<371x2231 sparse matrix of type '<class 'numpy.float64'>'\n",
       "\twith 55650 stored elements in Compressed Sparse Row format>"
      ]
     },
     "execution_count": 22,
     "metadata": {},
     "output_type": "execute_result"
    }
   ],
   "source": [
    "X_trans"
   ]
  },
  {
   "cell_type": "code",
   "execution_count": 13,
   "id": "bb7bd906",
   "metadata": {},
   "outputs": [
    {
     "name": "stdout",
     "output_type": "stream",
     "text": [
      "基于Xgb特征编码后的LR AUC: 0.83865\n",
      "基于组合特征的LR AUC: 0.83865\n"
     ]
    }
   ],
   "source": [
    "xgboost = model\n",
    "# xgboost 编码原有特征\n",
    "#apply()方法可以获得leaf indices(叶节点索引)\n",
    "X_train_leaves = xgboost.apply(X_train.values)\n",
    "#X_train_leaves.shape = (259, 150)\n",
    "X_test_leaves = xgboost.apply(X_test.values)\n",
    "#X_test.shape = (112, 4)\n",
    "#X_test_leaves.shape = (112, 150)\n",
    "#Return the predicted leaf every tree for each sample.\n",
    "\n",
    "\n",
    "# 训练样本个数\n",
    "train_rows = X_train_leaves.shape[0]\n",
    "# 合并编码后的训练数据和测试数据\n",
    "X_leaves = np.concatenate((X_train_leaves, X_test_leaves), axis=0)\n",
    "X_leaves = X_leaves.astype(np.int32)\n",
    "(rows, cols) = X_leaves.shape\n",
    "# X_leaves.shape = (371, 150)\n",
    "\n",
    "\n",
    "# 对所有特征进行ont-hot编码\n",
    "xgbenc = OneHotEncoder()\n",
    "X_trans = xgbenc.fit_transform(X_leaves)\n",
    "\n",
    "\n",
    "#fit_transform()的作用就是先拟合数据，然后转化它将其转化为标准形式\n",
    "#(train_rows, cols) = X_train_leaves.shape\n",
    "\n",
    "#这里得到的X_trans即为得到的one-hot的新特征\n",
    "# 定义LR模型\n",
    "lr = LogisticRegression()\n",
    "# lr对xgboost特征编码后的样本模型训练\n",
    "lr.fit(X_trans[:train_rows, :], y_train)\n",
    "y_pred_xgblr1 = lr.predict_proba(X_trans[train_rows:, :])\n",
    "# 预测及AUC评测\n",
    "#y_pred_xgblr1 = lr.predict_proba(X_trans[train_rows:, :])[:, 1]\n",
    "# y_pred_xgblr1.shape  = (112,)\n",
    "xgb_lr_auc1 = roc_auc_score(pd.get_dummies(y_test), y_pred_xgblr1)\n",
    "print('基于Xgb特征编码后的LR AUC: %.5f' % xgb_lr_auc1)\n",
    "\n",
    "\n",
    "# 将数据分为训练集和测试集进行，用新的特征输入LR进行预测\n",
    "# 定义LR模型\n",
    "lr = LogisticRegression(n_jobs=-1)\n",
    "# 组合特征\n",
    "X_train_ext = hstack([X_trans[:train_rows, :], X_train])\n",
    "X_test_ext = hstack([X_trans[train_rows:, :], X_test])\n",
    "# lr对组合特征的样本模型训练\n",
    "lr.fit(X_train_ext, y_train)\n",
    "# 预测及AUC评测\n",
    "y_pred_xgblr2 = lr.predict_proba(X_test_ext)\n",
    "xgb_lr_auc2 = roc_auc_score(pd.get_dummies(y_test), y_pred_xgblr2)\n",
    "print('基于组合特征的LR AUC: %.5f' % xgb_lr_auc2)"
   ]
  },
  {
   "cell_type": "code",
   "execution_count": null,
   "id": "307cd129",
   "metadata": {},
   "outputs": [],
   "source": []
  }
 ],
 "metadata": {
  "hide_input": false,
  "kernelspec": {
   "display_name": "Python 3",
   "language": "python",
   "name": "python3"
  },
  "language_info": {
   "codemirror_mode": {
    "name": "ipython",
    "version": 3
   },
   "file_extension": ".py",
   "mimetype": "text/x-python",
   "name": "python",
   "nbconvert_exporter": "python",
   "pygments_lexer": "ipython3",
   "version": "3.6.13"
  },
  "toc": {
   "base_numbering": 1,
   "nav_menu": {},
   "number_sections": true,
   "sideBar": true,
   "skip_h1_title": false,
   "title_cell": "Table of Contents",
   "title_sidebar": "Contents",
   "toc_cell": false,
   "toc_position": {
    "height": "calc(100% - 180px)",
    "left": "10px",
    "top": "150px",
    "width": "288px"
   },
   "toc_section_display": true,
   "toc_window_display": true
  }
 },
 "nbformat": 4,
 "nbformat_minor": 5
}
