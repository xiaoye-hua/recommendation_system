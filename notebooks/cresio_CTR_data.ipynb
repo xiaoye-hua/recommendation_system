{
 "cells": [
  {
   "cell_type": "markdown",
   "id": "849aa11e",
   "metadata": {},
   "source": [
    "# Module "
   ]
  },
  {
   "cell_type": "code",
   "execution_count": 1,
   "id": "9eb7651a",
   "metadata": {},
   "outputs": [],
   "source": [
    "%matplotlib inline\n",
    "%load_ext autoreload\n",
    "%autoreload 2\n",
    "import sys\n",
    "sys.path.append('../')\n",
    "\n",
    "import matplotlib.pyplot as plt\n",
    "import pandas as pd\n",
    "import numpy as np\n",
    "import seaborn as sns\n",
    "import os\n",
    "# from scripts.train_config import raw_data_dir"
   ]
  },
  {
   "cell_type": "markdown",
   "id": "38fca29e",
   "metadata": {},
   "source": [
    "# Config "
   ]
  },
  {
   "cell_type": "code",
   "execution_count": 2,
   "id": "d54f1f36",
   "metadata": {},
   "outputs": [],
   "source": [
    "criteo_data_dir = '../data/debug/criteo_sample.txt'"
   ]
  },
  {
   "cell_type": "markdown",
   "id": "0b387561",
   "metadata": {},
   "source": [
    "# Data Overview"
   ]
  },
  {
   "cell_type": "code",
   "execution_count": 3,
   "id": "57c9c87b",
   "metadata": {},
   "outputs": [],
   "source": [
    "df = pd.read_csv(criteo_data_dir)"
   ]
  },
  {
   "cell_type": "code",
   "execution_count": 5,
   "id": "c81defbf",
   "metadata": {},
   "outputs": [
    {
     "name": "stdout",
     "output_type": "stream",
     "text": [
      "<class 'pandas.core.frame.DataFrame'>\n",
      "RangeIndex: 200 entries, 0 to 199\n",
      "Data columns (total 40 columns):\n",
      " #   Column  Non-Null Count  Dtype  \n",
      "---  ------  --------------  -----  \n",
      " 0   label   200 non-null    int64  \n",
      " 1   I1      110 non-null    float64\n",
      " 2   I2      200 non-null    int64  \n",
      " 3   I3      166 non-null    float64\n",
      " 4   I4      165 non-null    float64\n",
      " 5   I5      194 non-null    float64\n",
      " 6   I6      149 non-null    float64\n",
      " 7   I7      190 non-null    float64\n",
      " 8   I8      200 non-null    float64\n",
      " 9   I9      190 non-null    float64\n",
      " 10  I10     110 non-null    float64\n",
      " 11  I11     190 non-null    float64\n",
      " 12  I12     43 non-null     float64\n",
      " 13  I13     165 non-null    float64\n",
      " 14  C1      200 non-null    object \n",
      " 15  C2      200 non-null    object \n",
      " 16  C3      191 non-null    object \n",
      " 17  C4      191 non-null    object \n",
      " 18  C5      200 non-null    object \n",
      " 19  C6      168 non-null    object \n",
      " 20  C7      200 non-null    object \n",
      " 21  C8      200 non-null    object \n",
      " 22  C9      200 non-null    object \n",
      " 23  C10     200 non-null    object \n",
      " 24  C11     200 non-null    object \n",
      " 25  C12     191 non-null    object \n",
      " 26  C13     200 non-null    object \n",
      " 27  C14     200 non-null    object \n",
      " 28  C15     200 non-null    object \n",
      " 29  C16     191 non-null    object \n",
      " 30  C17     200 non-null    object \n",
      " 31  C18     200 non-null    object \n",
      " 32  C19     118 non-null    object \n",
      " 33  C20     118 non-null    object \n",
      " 34  C21     191 non-null    object \n",
      " 35  C22     41 non-null     object \n",
      " 36  C23     200 non-null    object \n",
      " 37  C24     191 non-null    object \n",
      " 38  C25     118 non-null    object \n",
      " 39  C26     118 non-null    object \n",
      "dtypes: float64(12), int64(2), object(26)\n",
      "memory usage: 62.6+ KB\n"
     ]
    }
   ],
   "source": [
    "df.info()"
   ]
  },
  {
   "cell_type": "code",
   "execution_count": 6,
   "id": "69cfe847",
   "metadata": {},
   "outputs": [
    {
     "data": {
      "text/plain": [
       "label      0\n",
       "I1        90\n",
       "I2         0\n",
       "I3        34\n",
       "I4        35\n",
       "I5         6\n",
       "I6        51\n",
       "I7        10\n",
       "I8         0\n",
       "I9        10\n",
       "I10       90\n",
       "I11       10\n",
       "I12      157\n",
       "I13       35\n",
       "C1         0\n",
       "C2         0\n",
       "C3         9\n",
       "C4         9\n",
       "C5         0\n",
       "C6        32\n",
       "C7         0\n",
       "C8         0\n",
       "C9         0\n",
       "C10        0\n",
       "C11        0\n",
       "C12        9\n",
       "C13        0\n",
       "C14        0\n",
       "C15        0\n",
       "C16        9\n",
       "C17        0\n",
       "C18        0\n",
       "C19       82\n",
       "C20       82\n",
       "C21        9\n",
       "C22      159\n",
       "C23        0\n",
       "C24        9\n",
       "C25       82\n",
       "C26       82\n",
       "dtype: int64"
      ]
     },
     "execution_count": 6,
     "metadata": {},
     "output_type": "execute_result"
    }
   ],
   "source": [
    "df.isna().sum()"
   ]
  },
  {
   "cell_type": "code",
   "execution_count": null,
   "id": "ec02e7f6",
   "metadata": {},
   "outputs": [],
   "source": []
  }
 ],
 "metadata": {
  "hide_input": false,
  "kernelspec": {
   "display_name": "Python 3",
   "language": "python",
   "name": "python3"
  },
  "language_info": {
   "codemirror_mode": {
    "name": "ipython",
    "version": 3
   },
   "file_extension": ".py",
   "mimetype": "text/x-python",
   "name": "python",
   "nbconvert_exporter": "python",
   "pygments_lexer": "ipython3",
   "version": "3.9.5"
  },
  "toc": {
   "base_numbering": 1,
   "nav_menu": {},
   "number_sections": true,
   "sideBar": true,
   "skip_h1_title": false,
   "title_cell": "Table of Contents",
   "title_sidebar": "Contents",
   "toc_cell": false,
   "toc_position": {},
   "toc_section_display": true,
   "toc_window_display": false
  }
 },
 "nbformat": 4,
 "nbformat_minor": 5
}
