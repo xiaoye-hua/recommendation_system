{
 "cells": [
  {
   "cell_type": "markdown",
   "id": "849aa11e",
   "metadata": {},
   "source": [
    "# Module "
   ]
  },
  {
   "cell_type": "code",
   "execution_count": 6,
   "id": "9eb7651a",
   "metadata": {},
   "outputs": [
    {
     "name": "stdout",
     "output_type": "stream",
     "text": [
      "The autoreload extension is already loaded. To reload it, use:\n",
      "  %reload_ext autoreload\n"
     ]
    }
   ],
   "source": [
    "%matplotlib inline\n",
    "%load_ext autoreload\n",
    "%autoreload 2\n",
    "import sys\n",
    "sys.path.append('../')\n",
    "\n",
    "import matplotlib.pyplot as plt\n",
    "import pandas as pd\n",
    "import numpy as np\n",
    "import seaborn as sns\n",
    "import os\n",
    "from src.config import criteo_csv_sep, criteo_df_cols, criteo_sparse_features, criteo_dense_features\n",
    "from src.utils.plot_utils import count_plot\n",
    "# from scripts.train_config import raw_data_dir\n",
    "from sklearn.preprocessing import OneHotEncoder"
   ]
  },
  {
   "cell_type": "markdown",
   "id": "38fca29e",
   "metadata": {},
   "source": [
    "# Config "
   ]
  },
  {
   "cell_type": "code",
   "execution_count": 7,
   "id": "d54f1f36",
   "metadata": {},
   "outputs": [],
   "source": [
    "criteo_data_dir = '../data/raw_criteo_data/train.txt'\n",
    "# criteo_data_dir = '../data/debug/criteo//train.txt'"
   ]
  },
  {
   "cell_type": "markdown",
   "id": "0b387561",
   "metadata": {},
   "source": [
    "# Data Overview"
   ]
  },
  {
   "cell_type": "code",
   "execution_count": 8,
   "id": "57c9c87b",
   "metadata": {},
   "outputs": [
    {
     "ename": "KeyboardInterrupt",
     "evalue": "",
     "output_type": "error",
     "traceback": [
      "\u001b[0;31m---------------------------------------------------------------------------\u001b[0m",
      "\u001b[0;31mKeyboardInterrupt\u001b[0m                         Traceback (most recent call last)",
      "\u001b[0;32m<ipython-input-8-31940224fcaa>\u001b[0m in \u001b[0;36m<module>\u001b[0;34m\u001b[0m\n\u001b[1;32m      2\u001b[0m                  \u001b[0mnrows\u001b[0m\u001b[0;34m=\u001b[0m\u001b[0;36m2000000\u001b[0m\u001b[0;34m,\u001b[0m\u001b[0;34m\u001b[0m\u001b[0;34m\u001b[0m\u001b[0m\n\u001b[1;32m      3\u001b[0m                  \u001b[0msep\u001b[0m\u001b[0;34m=\u001b[0m\u001b[0mcriteo_csv_sep\u001b[0m\u001b[0;34m,\u001b[0m\u001b[0;34m\u001b[0m\u001b[0;34m\u001b[0m\u001b[0m\n\u001b[0;32m----> 4\u001b[0;31m                  header=None, names=criteo_df_cols)\n\u001b[0m",
      "\u001b[0;32m~/opt/miniconda3/envs/rec_sys/lib/python3.6/site-packages/pandas/io/parsers.py\u001b[0m in \u001b[0;36mread_csv\u001b[0;34m(filepath_or_buffer, sep, delimiter, header, names, index_col, usecols, squeeze, prefix, mangle_dupe_cols, dtype, engine, converters, true_values, false_values, skipinitialspace, skiprows, skipfooter, nrows, na_values, keep_default_na, na_filter, verbose, skip_blank_lines, parse_dates, infer_datetime_format, keep_date_col, date_parser, dayfirst, cache_dates, iterator, chunksize, compression, thousands, decimal, lineterminator, quotechar, quoting, doublequote, escapechar, comment, encoding, dialect, error_bad_lines, warn_bad_lines, delim_whitespace, low_memory, memory_map, float_precision)\u001b[0m\n\u001b[1;32m    686\u001b[0m     )\n\u001b[1;32m    687\u001b[0m \u001b[0;34m\u001b[0m\u001b[0m\n\u001b[0;32m--> 688\u001b[0;31m     \u001b[0;32mreturn\u001b[0m \u001b[0m_read\u001b[0m\u001b[0;34m(\u001b[0m\u001b[0mfilepath_or_buffer\u001b[0m\u001b[0;34m,\u001b[0m \u001b[0mkwds\u001b[0m\u001b[0;34m)\u001b[0m\u001b[0;34m\u001b[0m\u001b[0;34m\u001b[0m\u001b[0m\n\u001b[0m\u001b[1;32m    689\u001b[0m \u001b[0;34m\u001b[0m\u001b[0m\n\u001b[1;32m    690\u001b[0m \u001b[0;34m\u001b[0m\u001b[0m\n",
      "\u001b[0;32m~/opt/miniconda3/envs/rec_sys/lib/python3.6/site-packages/pandas/io/parsers.py\u001b[0m in \u001b[0;36m_read\u001b[0;34m(filepath_or_buffer, kwds)\u001b[0m\n\u001b[1;32m    458\u001b[0m \u001b[0;34m\u001b[0m\u001b[0m\n\u001b[1;32m    459\u001b[0m     \u001b[0;32mtry\u001b[0m\u001b[0;34m:\u001b[0m\u001b[0;34m\u001b[0m\u001b[0;34m\u001b[0m\u001b[0m\n\u001b[0;32m--> 460\u001b[0;31m         \u001b[0mdata\u001b[0m \u001b[0;34m=\u001b[0m \u001b[0mparser\u001b[0m\u001b[0;34m.\u001b[0m\u001b[0mread\u001b[0m\u001b[0;34m(\u001b[0m\u001b[0mnrows\u001b[0m\u001b[0;34m)\u001b[0m\u001b[0;34m\u001b[0m\u001b[0;34m\u001b[0m\u001b[0m\n\u001b[0m\u001b[1;32m    461\u001b[0m     \u001b[0;32mfinally\u001b[0m\u001b[0;34m:\u001b[0m\u001b[0;34m\u001b[0m\u001b[0;34m\u001b[0m\u001b[0m\n\u001b[1;32m    462\u001b[0m         \u001b[0mparser\u001b[0m\u001b[0;34m.\u001b[0m\u001b[0mclose\u001b[0m\u001b[0;34m(\u001b[0m\u001b[0;34m)\u001b[0m\u001b[0;34m\u001b[0m\u001b[0;34m\u001b[0m\u001b[0m\n",
      "\u001b[0;32m~/opt/miniconda3/envs/rec_sys/lib/python3.6/site-packages/pandas/io/parsers.py\u001b[0m in \u001b[0;36mread\u001b[0;34m(self, nrows)\u001b[0m\n\u001b[1;32m   1196\u001b[0m     \u001b[0;32mdef\u001b[0m \u001b[0mread\u001b[0m\u001b[0;34m(\u001b[0m\u001b[0mself\u001b[0m\u001b[0;34m,\u001b[0m \u001b[0mnrows\u001b[0m\u001b[0;34m=\u001b[0m\u001b[0;32mNone\u001b[0m\u001b[0;34m)\u001b[0m\u001b[0;34m:\u001b[0m\u001b[0;34m\u001b[0m\u001b[0;34m\u001b[0m\u001b[0m\n\u001b[1;32m   1197\u001b[0m         \u001b[0mnrows\u001b[0m \u001b[0;34m=\u001b[0m \u001b[0m_validate_integer\u001b[0m\u001b[0;34m(\u001b[0m\u001b[0;34m\"nrows\"\u001b[0m\u001b[0;34m,\u001b[0m \u001b[0mnrows\u001b[0m\u001b[0;34m)\u001b[0m\u001b[0;34m\u001b[0m\u001b[0;34m\u001b[0m\u001b[0m\n\u001b[0;32m-> 1198\u001b[0;31m         \u001b[0mret\u001b[0m \u001b[0;34m=\u001b[0m \u001b[0mself\u001b[0m\u001b[0;34m.\u001b[0m\u001b[0m_engine\u001b[0m\u001b[0;34m.\u001b[0m\u001b[0mread\u001b[0m\u001b[0;34m(\u001b[0m\u001b[0mnrows\u001b[0m\u001b[0;34m)\u001b[0m\u001b[0;34m\u001b[0m\u001b[0;34m\u001b[0m\u001b[0m\n\u001b[0m\u001b[1;32m   1199\u001b[0m \u001b[0;34m\u001b[0m\u001b[0m\n\u001b[1;32m   1200\u001b[0m         \u001b[0;31m# May alter columns / col_dict\u001b[0m\u001b[0;34m\u001b[0m\u001b[0;34m\u001b[0m\u001b[0;34m\u001b[0m\u001b[0m\n",
      "\u001b[0;32m~/opt/miniconda3/envs/rec_sys/lib/python3.6/site-packages/pandas/io/parsers.py\u001b[0m in \u001b[0;36mread\u001b[0;34m(self, nrows)\u001b[0m\n\u001b[1;32m   2155\u001b[0m     \u001b[0;32mdef\u001b[0m \u001b[0mread\u001b[0m\u001b[0;34m(\u001b[0m\u001b[0mself\u001b[0m\u001b[0;34m,\u001b[0m \u001b[0mnrows\u001b[0m\u001b[0;34m=\u001b[0m\u001b[0;32mNone\u001b[0m\u001b[0;34m)\u001b[0m\u001b[0;34m:\u001b[0m\u001b[0;34m\u001b[0m\u001b[0;34m\u001b[0m\u001b[0m\n\u001b[1;32m   2156\u001b[0m         \u001b[0;32mtry\u001b[0m\u001b[0;34m:\u001b[0m\u001b[0;34m\u001b[0m\u001b[0;34m\u001b[0m\u001b[0m\n\u001b[0;32m-> 2157\u001b[0;31m             \u001b[0mdata\u001b[0m \u001b[0;34m=\u001b[0m \u001b[0mself\u001b[0m\u001b[0;34m.\u001b[0m\u001b[0m_reader\u001b[0m\u001b[0;34m.\u001b[0m\u001b[0mread\u001b[0m\u001b[0;34m(\u001b[0m\u001b[0mnrows\u001b[0m\u001b[0;34m)\u001b[0m\u001b[0;34m\u001b[0m\u001b[0;34m\u001b[0m\u001b[0m\n\u001b[0m\u001b[1;32m   2158\u001b[0m         \u001b[0;32mexcept\u001b[0m \u001b[0mStopIteration\u001b[0m\u001b[0;34m:\u001b[0m\u001b[0;34m\u001b[0m\u001b[0;34m\u001b[0m\u001b[0m\n\u001b[1;32m   2159\u001b[0m             \u001b[0;32mif\u001b[0m \u001b[0mself\u001b[0m\u001b[0;34m.\u001b[0m\u001b[0m_first_chunk\u001b[0m\u001b[0;34m:\u001b[0m\u001b[0;34m\u001b[0m\u001b[0;34m\u001b[0m\u001b[0m\n",
      "\u001b[0;32mpandas/_libs/parsers.pyx\u001b[0m in \u001b[0;36mpandas._libs.parsers.TextReader.read\u001b[0;34m()\u001b[0m\n",
      "\u001b[0;32mpandas/_libs/parsers.pyx\u001b[0m in \u001b[0;36mpandas._libs.parsers.TextReader._read_low_memory\u001b[0;34m()\u001b[0m\n",
      "\u001b[0;32mpandas/_libs/parsers.pyx\u001b[0m in \u001b[0;36mpandas._libs.parsers.TextReader._read_rows\u001b[0;34m()\u001b[0m\n",
      "\u001b[0;32mpandas/_libs/parsers.pyx\u001b[0m in \u001b[0;36mpandas._libs.parsers.TextReader._convert_column_data\u001b[0;34m()\u001b[0m\n",
      "\u001b[0;32mpandas/_libs/parsers.pyx\u001b[0m in \u001b[0;36mpandas._libs.parsers.TextReader._convert_tokens\u001b[0;34m()\u001b[0m\n",
      "\u001b[0;32mpandas/_libs/parsers.pyx\u001b[0m in \u001b[0;36mpandas._libs.parsers.TextReader._convert_with_dtype\u001b[0;34m()\u001b[0m\n",
      "\u001b[0;32m~/opt/miniconda3/envs/rec_sys/lib/python3.6/site-packages/pandas/core/dtypes/common.py\u001b[0m in \u001b[0;36mis_categorical_dtype\u001b[0;34m(arr_or_dtype)\u001b[0m\n\u001b[1;32m    528\u001b[0m \u001b[0;34m\u001b[0m\u001b[0m\n\u001b[1;32m    529\u001b[0m \u001b[0;34m\u001b[0m\u001b[0m\n\u001b[0;32m--> 530\u001b[0;31m \u001b[0;32mdef\u001b[0m \u001b[0mis_categorical_dtype\u001b[0m\u001b[0;34m(\u001b[0m\u001b[0marr_or_dtype\u001b[0m\u001b[0;34m)\u001b[0m \u001b[0;34m->\u001b[0m \u001b[0mbool\u001b[0m\u001b[0;34m:\u001b[0m\u001b[0;34m\u001b[0m\u001b[0;34m\u001b[0m\u001b[0m\n\u001b[0m\u001b[1;32m    531\u001b[0m     \"\"\"\n\u001b[1;32m    532\u001b[0m     \u001b[0mCheck\u001b[0m \u001b[0mwhether\u001b[0m \u001b[0man\u001b[0m \u001b[0marray\u001b[0m\u001b[0;34m-\u001b[0m\u001b[0mlike\u001b[0m \u001b[0;32mor\u001b[0m \u001b[0mdtype\u001b[0m \u001b[0;32mis\u001b[0m \u001b[0mof\u001b[0m \u001b[0mthe\u001b[0m \u001b[0mCategorical\u001b[0m \u001b[0mdtype\u001b[0m\u001b[0;34m.\u001b[0m\u001b[0;34m\u001b[0m\u001b[0;34m\u001b[0m\u001b[0m\n",
      "\u001b[0;31mKeyboardInterrupt\u001b[0m: "
     ]
    }
   ],
   "source": [
    "df = pd.read_csv(criteo_data_dir,\n",
    "                 nrows=2000000,\n",
    "                 sep=criteo_csv_sep, \n",
    "                 header=None, names=criteo_df_cols)"
   ]
  },
  {
   "cell_type": "code",
   "execution_count": 4,
   "id": "b15d20a7",
   "metadata": {},
   "outputs": [
    {
     "data": {
      "text/html": [
       "<div>\n",
       "<style scoped>\n",
       "    .dataframe tbody tr th:only-of-type {\n",
       "        vertical-align: middle;\n",
       "    }\n",
       "\n",
       "    .dataframe tbody tr th {\n",
       "        vertical-align: top;\n",
       "    }\n",
       "\n",
       "    .dataframe thead th {\n",
       "        text-align: right;\n",
       "    }\n",
       "</style>\n",
       "<table border=\"1\" class=\"dataframe\">\n",
       "  <thead>\n",
       "    <tr style=\"text-align: right;\">\n",
       "      <th></th>\n",
       "      <th>label</th>\n",
       "      <th>I1</th>\n",
       "      <th>I2</th>\n",
       "      <th>I3</th>\n",
       "      <th>I4</th>\n",
       "      <th>I5</th>\n",
       "      <th>I6</th>\n",
       "      <th>I7</th>\n",
       "      <th>I8</th>\n",
       "      <th>I9</th>\n",
       "      <th>...</th>\n",
       "      <th>C17</th>\n",
       "      <th>C18</th>\n",
       "      <th>C19</th>\n",
       "      <th>C20</th>\n",
       "      <th>C21</th>\n",
       "      <th>C22</th>\n",
       "      <th>C23</th>\n",
       "      <th>C24</th>\n",
       "      <th>C25</th>\n",
       "      <th>C26</th>\n",
       "    </tr>\n",
       "  </thead>\n",
       "  <tbody>\n",
       "    <tr>\n",
       "      <th>0</th>\n",
       "      <td>0</td>\n",
       "      <td>1.0</td>\n",
       "      <td>1</td>\n",
       "      <td>5.0</td>\n",
       "      <td>0.0</td>\n",
       "      <td>1382.0</td>\n",
       "      <td>4.0</td>\n",
       "      <td>15.0</td>\n",
       "      <td>2.0</td>\n",
       "      <td>181.0</td>\n",
       "      <td>...</td>\n",
       "      <td>e5ba7672</td>\n",
       "      <td>f54016b9</td>\n",
       "      <td>21ddcdc9</td>\n",
       "      <td>b1252a9d</td>\n",
       "      <td>07b5194c</td>\n",
       "      <td>NaN</td>\n",
       "      <td>3a171ecb</td>\n",
       "      <td>c5c50484</td>\n",
       "      <td>e8b83407</td>\n",
       "      <td>9727dd16</td>\n",
       "    </tr>\n",
       "    <tr>\n",
       "      <th>1</th>\n",
       "      <td>0</td>\n",
       "      <td>2.0</td>\n",
       "      <td>0</td>\n",
       "      <td>44.0</td>\n",
       "      <td>1.0</td>\n",
       "      <td>102.0</td>\n",
       "      <td>8.0</td>\n",
       "      <td>2.0</td>\n",
       "      <td>2.0</td>\n",
       "      <td>4.0</td>\n",
       "      <td>...</td>\n",
       "      <td>07c540c4</td>\n",
       "      <td>b04e4670</td>\n",
       "      <td>21ddcdc9</td>\n",
       "      <td>5840adea</td>\n",
       "      <td>60f6221e</td>\n",
       "      <td>NaN</td>\n",
       "      <td>3a171ecb</td>\n",
       "      <td>43f13e8b</td>\n",
       "      <td>e8b83407</td>\n",
       "      <td>731c3655</td>\n",
       "    </tr>\n",
       "    <tr>\n",
       "      <th>2</th>\n",
       "      <td>0</td>\n",
       "      <td>2.0</td>\n",
       "      <td>0</td>\n",
       "      <td>1.0</td>\n",
       "      <td>14.0</td>\n",
       "      <td>767.0</td>\n",
       "      <td>89.0</td>\n",
       "      <td>4.0</td>\n",
       "      <td>2.0</td>\n",
       "      <td>245.0</td>\n",
       "      <td>...</td>\n",
       "      <td>8efede7f</td>\n",
       "      <td>3412118d</td>\n",
       "      <td>NaN</td>\n",
       "      <td>NaN</td>\n",
       "      <td>e587c466</td>\n",
       "      <td>ad3062eb</td>\n",
       "      <td>3a171ecb</td>\n",
       "      <td>3b183c5c</td>\n",
       "      <td>NaN</td>\n",
       "      <td>NaN</td>\n",
       "    </tr>\n",
       "    <tr>\n",
       "      <th>3</th>\n",
       "      <td>0</td>\n",
       "      <td>NaN</td>\n",
       "      <td>893</td>\n",
       "      <td>NaN</td>\n",
       "      <td>NaN</td>\n",
       "      <td>4392.0</td>\n",
       "      <td>NaN</td>\n",
       "      <td>0.0</td>\n",
       "      <td>0.0</td>\n",
       "      <td>0.0</td>\n",
       "      <td>...</td>\n",
       "      <td>1e88c74f</td>\n",
       "      <td>74ef3502</td>\n",
       "      <td>NaN</td>\n",
       "      <td>NaN</td>\n",
       "      <td>6b3a5ca6</td>\n",
       "      <td>NaN</td>\n",
       "      <td>3a171ecb</td>\n",
       "      <td>9117a34a</td>\n",
       "      <td>NaN</td>\n",
       "      <td>NaN</td>\n",
       "    </tr>\n",
       "    <tr>\n",
       "      <th>4</th>\n",
       "      <td>0</td>\n",
       "      <td>3.0</td>\n",
       "      <td>-1</td>\n",
       "      <td>NaN</td>\n",
       "      <td>0.0</td>\n",
       "      <td>2.0</td>\n",
       "      <td>0.0</td>\n",
       "      <td>3.0</td>\n",
       "      <td>0.0</td>\n",
       "      <td>0.0</td>\n",
       "      <td>...</td>\n",
       "      <td>1e88c74f</td>\n",
       "      <td>26b3c7a7</td>\n",
       "      <td>NaN</td>\n",
       "      <td>NaN</td>\n",
       "      <td>21c9516a</td>\n",
       "      <td>NaN</td>\n",
       "      <td>32c7478e</td>\n",
       "      <td>b34f3128</td>\n",
       "      <td>NaN</td>\n",
       "      <td>NaN</td>\n",
       "    </tr>\n",
       "  </tbody>\n",
       "</table>\n",
       "<p>5 rows × 40 columns</p>\n",
       "</div>"
      ],
      "text/plain": [
       "   label   I1   I2    I3    I4      I5    I6    I7   I8     I9  ...       C17  \\\n",
       "0      0  1.0    1   5.0   0.0  1382.0   4.0  15.0  2.0  181.0  ...  e5ba7672   \n",
       "1      0  2.0    0  44.0   1.0   102.0   8.0   2.0  2.0    4.0  ...  07c540c4   \n",
       "2      0  2.0    0   1.0  14.0   767.0  89.0   4.0  2.0  245.0  ...  8efede7f   \n",
       "3      0  NaN  893   NaN   NaN  4392.0   NaN   0.0  0.0    0.0  ...  1e88c74f   \n",
       "4      0  3.0   -1   NaN   0.0     2.0   0.0   3.0  0.0    0.0  ...  1e88c74f   \n",
       "\n",
       "        C18       C19       C20       C21       C22       C23       C24  \\\n",
       "0  f54016b9  21ddcdc9  b1252a9d  07b5194c       NaN  3a171ecb  c5c50484   \n",
       "1  b04e4670  21ddcdc9  5840adea  60f6221e       NaN  3a171ecb  43f13e8b   \n",
       "2  3412118d       NaN       NaN  e587c466  ad3062eb  3a171ecb  3b183c5c   \n",
       "3  74ef3502       NaN       NaN  6b3a5ca6       NaN  3a171ecb  9117a34a   \n",
       "4  26b3c7a7       NaN       NaN  21c9516a       NaN  32c7478e  b34f3128   \n",
       "\n",
       "        C25       C26  \n",
       "0  e8b83407  9727dd16  \n",
       "1  e8b83407  731c3655  \n",
       "2       NaN       NaN  \n",
       "3       NaN       NaN  \n",
       "4       NaN       NaN  \n",
       "\n",
       "[5 rows x 40 columns]"
      ]
     },
     "execution_count": 4,
     "metadata": {},
     "output_type": "execute_result"
    }
   ],
   "source": [
    "df.head()"
   ]
  },
  {
   "cell_type": "code",
   "execution_count": 7,
   "id": "ab9c1067",
   "metadata": {},
   "outputs": [
    {
     "data": {
      "text/plain": [
       "(2000000, 40)"
      ]
     },
     "execution_count": 7,
     "metadata": {},
     "output_type": "execute_result"
    }
   ],
   "source": [
    "df.shape"
   ]
  },
  {
   "cell_type": "code",
   "execution_count": 8,
   "id": "c81defbf",
   "metadata": {},
   "outputs": [
    {
     "name": "stdout",
     "output_type": "stream",
     "text": [
      "<class 'pandas.core.frame.DataFrame'>\n",
      "RangeIndex: 2000000 entries, 0 to 1999999\n",
      "Data columns (total 40 columns):\n",
      " #   Column  Dtype  \n",
      "---  ------  -----  \n",
      " 0   label   int64  \n",
      " 1   I1      float64\n",
      " 2   I2      int64  \n",
      " 3   I3      float64\n",
      " 4   I4      float64\n",
      " 5   I5      float64\n",
      " 6   I6      float64\n",
      " 7   I7      float64\n",
      " 8   I8      float64\n",
      " 9   I9      float64\n",
      " 10  I10     float64\n",
      " 11  I11     float64\n",
      " 12  I12     float64\n",
      " 13  I13     float64\n",
      " 14  C1      object \n",
      " 15  C2      object \n",
      " 16  C3      object \n",
      " 17  C4      object \n",
      " 18  C5      object \n",
      " 19  C6      object \n",
      " 20  C7      object \n",
      " 21  C8      object \n",
      " 22  C9      object \n",
      " 23  C10     object \n",
      " 24  C11     object \n",
      " 25  C12     object \n",
      " 26  C13     object \n",
      " 27  C14     object \n",
      " 28  C15     object \n",
      " 29  C16     object \n",
      " 30  C17     object \n",
      " 31  C18     object \n",
      " 32  C19     object \n",
      " 33  C20     object \n",
      " 34  C21     object \n",
      " 35  C22     object \n",
      " 36  C23     object \n",
      " 37  C24     object \n",
      " 38  C25     object \n",
      " 39  C26     object \n",
      "dtypes: float64(12), int64(2), object(26)\n",
      "memory usage: 610.4+ MB\n"
     ]
    }
   ],
   "source": [
    "df.info()"
   ]
  },
  {
   "cell_type": "markdown",
   "id": "9109fc10",
   "metadata": {},
   "source": [
    "## Label Distribution "
   ]
  },
  {
   "cell_type": "code",
   "execution_count": 9,
   "id": "5dfda510",
   "metadata": {},
   "outputs": [
    {
     "data": {
      "image/png": "[encoded data removed]",
      "text/plain": [
       "<Figure size 432x288 with 1 Axes>"
      ]
     },
     "metadata": {
      "needs_background": "light"
     },
     "output_type": "display_data"
    }
   ],
   "source": [
    "count_plot(df=df, col=\"label\")"
   ]
  },
  {
   "cell_type": "code",
   "execution_count": 11,
   "id": "177200ae",
   "metadata": {},
   "outputs": [
    {
     "name": "stdout",
     "output_type": "stream",
     "text": [
      "negative/positive: 2.975\n"
     ]
    }
   ],
   "source": [
    "print(f\"negative/positive: {round(74.84/25.16, 3)}\")"
   ]
  },
  {
   "cell_type": "markdown",
   "id": "e92cc596",
   "metadata": {},
   "source": [
    "# Create debug data"
   ]
  },
  {
   "cell_type": "code",
   "execution_count": 24,
   "id": "6b21d9d3",
   "metadata": {},
   "outputs": [],
   "source": [
    "df.to_csv(\"../data/debug/criteo/train.txt\", index=False, header=None, sep=criteo_csv_sep)"
   ]
  },
  {
   "cell_type": "markdown",
   "id": "5542d508",
   "metadata": {},
   "source": [
    "# Debug "
   ]
  },
  {
   "cell_type": "code",
   "execution_count": 35,
   "id": "e8ac18d8",
   "metadata": {},
   "outputs": [],
   "source": [
    "from numpy import array"
   ]
  },
  {
   "cell_type": "code",
   "execution_count": 36,
   "id": "b3ec23fc",
   "metadata": {},
   "outputs": [],
   "source": [
    "a = {'C1': array([1, 1]), 'C2': array([1, 2]), 'C3': array([2, 1]), 'C4': array([2, 1]), 'C5': array([1, 1]), 'C6': array([1, 2]), 'C7': array([2, 1]), 'C8': array([2, 1]), 'C9': array([1, 1]), 'C10': array([2, 1]), 'C11': array([2, 1]), 'C12': array([1, 2]), 'C13': array([1, 2]), 'C14': array([1, 2]), 'C15': array([1, 2]), 'C16': array([1, 2]), 'C17': array([2, 1]), 'C18': array([2, 1]), 'C19': array([1, 1]), 'C20': array([2, 1]), 'C21': array([1, 2]), 'C22': array([1, 1]), 'C23': array([1, 1]), 'C24': array([2, 1]), 'C25': array([1, 1]), 'C26': array([2, 1]), 'I1': array([1., 2.]), 'I2': array([1, 0]), 'I3': array([ 5., 44.]), 'I4': array([0., 1.]), 'I5': array([1382.,  102.]), 'I6': array([4., 8.]), 'I7': array([15.,  2.]), 'I8': array([2, 2]), 'I9': array([181.,   4.]), 'I10': array([1., 1.]), 'I11': array([2., 1.]), 'I12': array([0., 0.]), 'I13': array([2., 4.])}\n",
    "\n",
    "b = {'C1': array([1, 1]), 'C2': array([1, 2]), 'C3': array([2, 1]), 'C4': array([2, 1]), 'C5': array([1, 1]), 'C6': array([1, 2]), 'C7': array([2, 1]), 'C8': array([2, 1]), 'C9': array([1, 1]), 'C10': array([2, 1]), 'C11': array([2, 1]), 'C12': array([1, 2]), 'C13': array([1, 2]), 'C14': array([1, 2]), 'C15': array([1, 2]), 'C16': array([1, 2]), 'C17': array([2, 1]), 'C18': array([2, 1]), 'C19': array([1, 1]), 'C20': array([2, 1]), 'C21': array([1, 2]), 'C22': array([1, 1]), 'C23': array([1, 1]), 'C24': array([2, 1]), 'C25': array([1, 1]), 'C26': array([2, 1]), 'I1': array([1., 2.]), 'I2': array([1, 0]), 'I3': array([ 5., 44.]), 'I4': array([0., 1.]), 'I5': array([1382.,  102.]), 'I6': array([4., 8.]), 'I7': array([15.,  2.]), 'I8': array([2, 2]), 'I9': array([181.,   4.]), 'I10': array([1., 1.]), 'I11': array([2., 1.]), 'I12': array([0., 0.]), 'I13': array([2., 4.])}\n"
   ]
  },
  {
   "cell_type": "code",
   "execution_count": 39,
   "id": "e69d149d",
   "metadata": {},
   "outputs": [
    {
     "data": {
      "text/plain": [
       "True"
      ]
     },
     "execution_count": 39,
     "metadata": {},
     "output_type": "execute_result"
    }
   ],
   "source": [
    "a.keys() == b.keys()"
   ]
  },
  {
   "cell_type": "code",
   "execution_count": 41,
   "id": "a3ef028a",
   "metadata": {},
   "outputs": [
    {
     "data": {
      "text/plain": [
       "False"
      ]
     },
     "execution_count": 41,
     "metadata": {},
     "output_type": "execute_result"
    }
   ],
   "source": [
    "a.values() == b.values()"
   ]
  },
  {
   "cell_type": "code",
   "execution_count": 45,
   "id": "be1a9a76",
   "metadata": {},
   "outputs": [
    {
     "data": {
      "text/plain": [
       "2"
      ]
     },
     "execution_count": 45,
     "metadata": {},
     "output_type": "execute_result"
    }
   ],
   "source": [
    "sum(a['C1'] == b['C1'])"
   ]
  },
  {
   "cell_type": "code",
   "execution_count": 50,
   "id": "4ee43ead",
   "metadata": {},
   "outputs": [
    {
     "name": "stdout",
     "output_type": "stream",
     "text": [
      "C1\n",
      "[ True  True]\n",
      "C2\n",
      "[ True  True]\n",
      "C3\n",
      "[ True  True]\n",
      "C4\n",
      "[ True  True]\n",
      "C5\n",
      "[ True  True]\n",
      "C6\n",
      "[ True  True]\n",
      "C7\n",
      "[ True  True]\n",
      "C8\n",
      "[ True  True]\n",
      "C9\n",
      "[ True  True]\n",
      "C10\n",
      "[ True  True]\n",
      "C11\n",
      "[ True  True]\n",
      "C12\n",
      "[ True  True]\n",
      "C13\n",
      "[ True  True]\n",
      "C14\n",
      "[ True  True]\n",
      "C15\n",
      "[ True  True]\n",
      "C16\n",
      "[ True  True]\n",
      "C17\n",
      "[ True  True]\n",
      "C18\n",
      "[ True  True]\n",
      "C19\n",
      "[ True  True]\n",
      "C20\n",
      "[ True  True]\n",
      "C21\n",
      "[ True  True]\n",
      "C22\n",
      "[ True  True]\n",
      "C23\n",
      "[ True  True]\n",
      "C24\n",
      "[ True  True]\n",
      "C25\n",
      "[ True  True]\n",
      "C26\n",
      "[ True  True]\n",
      "I1\n",
      "[ True  True]\n",
      "I2\n",
      "[ True  True]\n",
      "I3\n",
      "[ True  True]\n",
      "I4\n",
      "[ True  True]\n",
      "I5\n",
      "[ True  True]\n",
      "I6\n",
      "[ True  True]\n",
      "I7\n",
      "[ True  True]\n",
      "I8\n",
      "[ True  True]\n",
      "I9\n",
      "[ True  True]\n",
      "I10\n",
      "[ True  True]\n",
      "I11\n",
      "[ True  True]\n",
      "I12\n",
      "[ True  True]\n",
      "I13\n",
      "[ True  True]\n"
     ]
    }
   ],
   "source": [
    "for key in a.keys():\n",
    "    print(key)\n",
    "    match = a[key] == b[key]\n",
    "    match_sum = sum(match)\n",
    "    print(match)\n",
    "    if match_sum != 2:\n",
    "        print('hh')"
   ]
  },
  {
   "cell_type": "markdown",
   "id": "189478c8",
   "metadata": {},
   "source": [
    "# Playground "
   ]
  },
  {
   "cell_type": "code",
   "execution_count": 9,
   "id": "d39f3745",
   "metadata": {},
   "outputs": [],
   "source": [
    "from sklearn.compose import ColumnTransformer\n",
    "from sklearn.datasets import fetch_openml\n",
    "from sklearn.pipeline import Pipeline\n",
    "from sklearn.impute import SimpleImputer\n",
    "from sklearn.preprocessing import StandardScaler, OneHotEncoder\n",
    "from sklearn.decomposition import PCA, TruncatedSVD\n",
    "from sklearn.linear_model import LogisticRegression\n",
    "from sklearn.model_selection import train_test_split, GridSearchCV"
   ]
  },
  {
   "cell_type": "code",
   "execution_count": 10,
   "id": "d2bd9caf",
   "metadata": {},
   "outputs": [],
   "source": [
    "df = pd.read_csv(criteo_data_dir,\n",
    "                 nrows=2000,\n",
    "                 sep=criteo_csv_sep, \n",
    "                 header=None, names=criteo_df_cols)"
   ]
  },
  {
   "cell_type": "code",
   "execution_count": 11,
   "id": "27cf153b",
   "metadata": {},
   "outputs": [
    {
     "name": "stdout",
     "output_type": "stream",
     "text": [
      "<class 'pandas.core.frame.DataFrame'>\n",
      "RangeIndex: 2000 entries, 0 to 1999\n",
      "Data columns (total 40 columns):\n",
      " #   Column  Non-Null Count  Dtype  \n",
      "---  ------  --------------  -----  \n",
      " 0   label   2000 non-null   int64  \n",
      " 1   I1      1110 non-null   float64\n",
      " 2   I2      2000 non-null   int64  \n",
      " 3   I3      1551 non-null   float64\n",
      " 4   I4      1580 non-null   float64\n",
      " 5   I5      1907 non-null   float64\n",
      " 6   I6      1506 non-null   float64\n",
      " 7   I7      1907 non-null   float64\n",
      " 8   I8      1998 non-null   float64\n",
      " 9   I9      1907 non-null   float64\n",
      " 10  I10     1110 non-null   float64\n",
      " 11  I11     1907 non-null   float64\n",
      " 12  I12     445 non-null    float64\n",
      " 13  I13     1580 non-null   float64\n",
      " 14  C1      2000 non-null   object \n",
      " 15  C2      2000 non-null   object \n",
      " 16  C3      1934 non-null   object \n",
      " 17  C4      1934 non-null   object \n",
      " 18  C5      2000 non-null   object \n",
      " 19  C6      1749 non-null   object \n",
      " 20  C7      2000 non-null   object \n",
      " 21  C8      2000 non-null   object \n",
      " 22  C9      2000 non-null   object \n",
      " 23  C10     2000 non-null   object \n",
      " 24  C11     2000 non-null   object \n",
      " 25  C12     1934 non-null   object \n",
      " 26  C13     2000 non-null   object \n",
      " 27  C14     2000 non-null   object \n",
      " 28  C15     2000 non-null   object \n",
      " 29  C16     1934 non-null   object \n",
      " 30  C17     2000 non-null   object \n",
      " 31  C18     2000 non-null   object \n",
      " 32  C19     1034 non-null   object \n",
      " 33  C20     1034 non-null   object \n",
      " 34  C21     1934 non-null   object \n",
      " 35  C22     368 non-null    object \n",
      " 36  C23     2000 non-null   object \n",
      " 37  C24     1934 non-null   object \n",
      " 38  C25     1034 non-null   object \n",
      " 39  C26     1034 non-null   object \n",
      "dtypes: float64(12), int64(2), object(26)\n",
      "memory usage: 625.1+ KB\n"
     ]
    }
   ],
   "source": [
    "df.info()"
   ]
  },
  {
   "cell_type": "code",
   "execution_count": 14,
   "id": "29883353",
   "metadata": {},
   "outputs": [
    {
     "data": {
      "text/html": [
       "<div>\n",
       "<style scoped>\n",
       "    .dataframe tbody tr th:only-of-type {\n",
       "        vertical-align: middle;\n",
       "    }\n",
       "\n",
       "    .dataframe tbody tr th {\n",
       "        vertical-align: top;\n",
       "    }\n",
       "\n",
       "    .dataframe thead th {\n",
       "        text-align: right;\n",
       "    }\n",
       "</style>\n",
       "<table border=\"1\" class=\"dataframe\">\n",
       "  <thead>\n",
       "    <tr style=\"text-align: right;\">\n",
       "      <th></th>\n",
       "      <th>I1</th>\n",
       "      <th>I2</th>\n",
       "      <th>I3</th>\n",
       "      <th>I4</th>\n",
       "      <th>I5</th>\n",
       "      <th>I6</th>\n",
       "      <th>I7</th>\n",
       "      <th>I8</th>\n",
       "      <th>I9</th>\n",
       "      <th>I10</th>\n",
       "      <th>I11</th>\n",
       "      <th>I12</th>\n",
       "      <th>I13</th>\n",
       "    </tr>\n",
       "  </thead>\n",
       "  <tbody>\n",
       "    <tr>\n",
       "      <th>count</th>\n",
       "      <td>1110.000000</td>\n",
       "      <td>2000.000000</td>\n",
       "      <td>1551.000000</td>\n",
       "      <td>1580.000000</td>\n",
       "      <td>1.907000e+03</td>\n",
       "      <td>1506.000000</td>\n",
       "      <td>1907.000000</td>\n",
       "      <td>1998.000000</td>\n",
       "      <td>1907.000000</td>\n",
       "      <td>1110.000000</td>\n",
       "      <td>1907.000000</td>\n",
       "      <td>445.000000</td>\n",
       "      <td>1580.000000</td>\n",
       "    </tr>\n",
       "    <tr>\n",
       "      <th>mean</th>\n",
       "      <td>3.696396</td>\n",
       "      <td>120.284500</td>\n",
       "      <td>33.058027</td>\n",
       "      <td>8.063924</td>\n",
       "      <td>1.468667e+04</td>\n",
       "      <td>146.925631</td>\n",
       "      <td>13.703199</td>\n",
       "      <td>13.678679</td>\n",
       "      <td>126.696906</td>\n",
       "      <td>0.561261</td>\n",
       "      <td>2.155742</td>\n",
       "      <td>1.042697</td>\n",
       "      <td>11.783544</td>\n",
       "    </tr>\n",
       "    <tr>\n",
       "      <th>std</th>\n",
       "      <td>9.656064</td>\n",
       "      <td>427.538589</td>\n",
       "      <td>243.818066</td>\n",
       "      <td>9.711368</td>\n",
       "      <td>5.424004e+04</td>\n",
       "      <td>337.963575</td>\n",
       "      <td>53.453808</td>\n",
       "      <td>22.943790</td>\n",
       "      <td>276.617097</td>\n",
       "      <td>0.632266</td>\n",
       "      <td>3.544704</td>\n",
       "      <td>5.289414</td>\n",
       "      <td>26.553803</td>\n",
       "    </tr>\n",
       "    <tr>\n",
       "      <th>min</th>\n",
       "      <td>0.000000</td>\n",
       "      <td>-2.000000</td>\n",
       "      <td>0.000000</td>\n",
       "      <td>0.000000</td>\n",
       "      <td>0.000000e+00</td>\n",
       "      <td>0.000000</td>\n",
       "      <td>0.000000</td>\n",
       "      <td>0.000000</td>\n",
       "      <td>0.000000</td>\n",
       "      <td>0.000000</td>\n",
       "      <td>0.000000</td>\n",
       "      <td>0.000000</td>\n",
       "      <td>0.000000</td>\n",
       "    </tr>\n",
       "    <tr>\n",
       "      <th>25%</th>\n",
       "      <td>0.000000</td>\n",
       "      <td>0.000000</td>\n",
       "      <td>2.000000</td>\n",
       "      <td>2.000000</td>\n",
       "      <td>2.975000e+02</td>\n",
       "      <td>10.000000</td>\n",
       "      <td>0.000000</td>\n",
       "      <td>2.000000</td>\n",
       "      <td>10.000000</td>\n",
       "      <td>0.000000</td>\n",
       "      <td>0.000000</td>\n",
       "      <td>0.000000</td>\n",
       "      <td>2.000000</td>\n",
       "    </tr>\n",
       "    <tr>\n",
       "      <th>50%</th>\n",
       "      <td>1.000000</td>\n",
       "      <td>3.000000</td>\n",
       "      <td>6.000000</td>\n",
       "      <td>4.000000</td>\n",
       "      <td>2.885000e+03</td>\n",
       "      <td>43.000000</td>\n",
       "      <td>3.000000</td>\n",
       "      <td>8.000000</td>\n",
       "      <td>43.000000</td>\n",
       "      <td>0.000000</td>\n",
       "      <td>1.000000</td>\n",
       "      <td>0.000000</td>\n",
       "      <td>5.000000</td>\n",
       "    </tr>\n",
       "    <tr>\n",
       "      <th>75%</th>\n",
       "      <td>3.000000</td>\n",
       "      <td>43.250000</td>\n",
       "      <td>19.000000</td>\n",
       "      <td>11.000000</td>\n",
       "      <td>1.032550e+04</td>\n",
       "      <td>139.750000</td>\n",
       "      <td>10.000000</td>\n",
       "      <td>20.750000</td>\n",
       "      <td>128.500000</td>\n",
       "      <td>1.000000</td>\n",
       "      <td>2.000000</td>\n",
       "      <td>1.000000</td>\n",
       "      <td>14.000000</td>\n",
       "    </tr>\n",
       "    <tr>\n",
       "      <th>max</th>\n",
       "      <td>95.000000</td>\n",
       "      <td>7864.000000</td>\n",
       "      <td>8457.000000</td>\n",
       "      <td>87.000000</td>\n",
       "      <td>1.015215e+06</td>\n",
       "      <td>4638.000000</td>\n",
       "      <td>1658.000000</td>\n",
       "      <td>547.000000</td>\n",
       "      <td>5637.000000</td>\n",
       "      <td>4.000000</td>\n",
       "      <td>37.000000</td>\n",
       "      <td>98.000000</td>\n",
       "      <td>770.000000</td>\n",
       "    </tr>\n",
       "  </tbody>\n",
       "</table>\n",
       "</div>"
      ],
      "text/plain": [
       "                I1           I2           I3           I4            I5  \\\n",
       "count  1110.000000  2000.000000  1551.000000  1580.000000  1.907000e+03   \n",
       "mean      3.696396   120.284500    33.058027     8.063924  1.468667e+04   \n",
       "std       9.656064   427.538589   243.818066     9.711368  5.424004e+04   \n",
       "min       0.000000    -2.000000     0.000000     0.000000  0.000000e+00   \n",
       "25%       0.000000     0.000000     2.000000     2.000000  2.975000e+02   \n",
       "50%       1.000000     3.000000     6.000000     4.000000  2.885000e+03   \n",
       "75%       3.000000    43.250000    19.000000    11.000000  1.032550e+04   \n",
       "max      95.000000  7864.000000  8457.000000    87.000000  1.015215e+06   \n",
       "\n",
       "                I6           I7           I8           I9          I10  \\\n",
       "count  1506.000000  1907.000000  1998.000000  1907.000000  1110.000000   \n",
       "mean    146.925631    13.703199    13.678679   126.696906     0.561261   \n",
       "std     337.963575    53.453808    22.943790   276.617097     0.632266   \n",
       "min       0.000000     0.000000     0.000000     0.000000     0.000000   \n",
       "25%      10.000000     0.000000     2.000000    10.000000     0.000000   \n",
       "50%      43.000000     3.000000     8.000000    43.000000     0.000000   \n",
       "75%     139.750000    10.000000    20.750000   128.500000     1.000000   \n",
       "max    4638.000000  1658.000000   547.000000  5637.000000     4.000000   \n",
       "\n",
       "               I11         I12          I13  \n",
       "count  1907.000000  445.000000  1580.000000  \n",
       "mean      2.155742    1.042697    11.783544  \n",
       "std       3.544704    5.289414    26.553803  \n",
       "min       0.000000    0.000000     0.000000  \n",
       "25%       0.000000    0.000000     2.000000  \n",
       "50%       1.000000    0.000000     5.000000  \n",
       "75%       2.000000    1.000000    14.000000  \n",
       "max      37.000000   98.000000   770.000000  "
      ]
     },
     "execution_count": 14,
     "metadata": {},
     "output_type": "execute_result"
    }
   ],
   "source": [
    "df[criteo_dense_features].describe()"
   ]
  },
  {
   "cell_type": "code",
   "execution_count": 15,
   "id": "38b333e6",
   "metadata": {},
   "outputs": [],
   "source": [
    "from sklearn.preprocessing import KBinsDiscretizer"
   ]
  },
  {
   "cell_type": "code",
   "execution_count": 18,
   "id": "7f4e54fa",
   "metadata": {},
   "outputs": [],
   "source": [
    "df = df.fillna(0)"
   ]
  },
  {
   "cell_type": "code",
   "execution_count": null,
   "id": "7c6a2ad6",
   "metadata": {},
   "outputs": [],
   "source": []
  },
  {
   "cell_type": "code",
   "execution_count": 37,
   "id": "d560389f",
   "metadata": {},
   "outputs": [
    {
     "name": "stderr",
     "output_type": "stream",
     "text": [
      "/Users/mac/opt/miniconda3/envs/rec_sys/lib/python3.6/site-packages/sklearn/preprocessing/_discretization.py:222: UserWarning: Bins whose width are too small (i.e., <= 1e-8) in feature 0 are removed. Consider decreasing the number of bins.\n",
      "  'decreasing the number of bins.' % jj)\n"
     ]
    }
   ],
   "source": [
    "result = KBinsDiscretizer(n_bins=20, encode='ordinal').fit_transform(df[['I5']])#.toarray()"
   ]
  },
  {
   "cell_type": "code",
   "execution_count": 38,
   "id": "dc01bc69",
   "metadata": {},
   "outputs": [
    {
     "data": {
      "text/plain": [
       "(2000, 1)"
      ]
     },
     "execution_count": 38,
     "metadata": {},
     "output_type": "execute_result"
    }
   ],
   "source": [
    "result.shape"
   ]
  },
  {
   "cell_type": "code",
   "execution_count": 39,
   "id": "8803c9f8",
   "metadata": {},
   "outputs": [
    {
     "data": {
      "text/plain": [
       "array([[ 6.],\n",
       "       [ 3.],\n",
       "       [ 6.],\n",
       "       ...,\n",
       "       [18.],\n",
       "       [ 9.],\n",
       "       [17.]])"
      ]
     },
     "execution_count": 39,
     "metadata": {},
     "output_type": "execute_result"
    }
   ],
   "source": [
    "result"
   ]
  },
  {
   "cell_type": "code",
   "execution_count": 27,
   "id": "b9aecc3e",
   "metadata": {},
   "outputs": [],
   "source": [
    "numeric_features = criteo_dense_features #[\"age\", \"fare\"]\n",
    "numeric_transformer = Pipeline(\n",
    "    steps=[(\"imputer\", SimpleImputer(strategy=\"median\")),\n",
    "           (\"scaler\", StandardScaler())\n",
    "          ]\n",
    ")\n",
    "\n",
    "categorical_features = criteo_sparse_features #[\"embarked\", \"sex\", \"pclass\"]\n",
    "categorical_transformer = Pipeline([\n",
    "    ('one_hot', OneHotEncoder(handle_unknown=\"ignore\"))\n",
    "    , ('pca', TruncatedSVD(n_components=50))\n",
    "])\n",
    "\n",
    "\n",
    "preprocessor = ColumnTransformer(\n",
    "    transformers=[\n",
    "        (\"num\", numeric_transformer, numeric_features),\n",
    "        (\"cat\", categorical_transformer, categorical_features),\n",
    "    ]\n",
    ")\n",
    "\n",
    "# Append classifier to preprocessing pipeline.\n",
    "# Now we have a full prediction pipeline.\n",
    "clf = Pipeline(\n",
    "    steps=[(\"preprocessor\", preprocessor), (\"classifier\", LogisticRegression())]\n",
    ")"
   ]
  },
  {
   "cell_type": "code",
   "execution_count": 28,
   "id": "d810a00d",
   "metadata": {},
   "outputs": [],
   "source": [
    "X = df[criteo_dense_features+criteo_sparse_features]\n",
    "y = df['label']"
   ]
  },
  {
   "cell_type": "code",
   "execution_count": 29,
   "id": "ac211c3d",
   "metadata": {
    "scrolled": false
   },
   "outputs": [
    {
     "name": "stdout",
     "output_type": "stream",
     "text": [
      "(1600, 39)\n",
      "model score: 0.802\n"
     ]
    }
   ],
   "source": [
    "X_train, X_test, y_train, y_test = train_test_split(X, y, test_size=0.2, random_state=0)\n",
    "\n",
    "print(X_train.shape)\n",
    "clf.fit(X_train, y_train)\n",
    "print(\"model score: %.3f\" % clf.score(X_test, y_test))"
   ]
  },
  {
   "cell_type": "code",
   "execution_count": 31,
   "id": "80f39325",
   "metadata": {},
   "outputs": [],
   "source": [
    "a = preprocessor.transform(X_train)"
   ]
  },
  {
   "cell_type": "code",
   "execution_count": 36,
   "id": "266246a5",
   "metadata": {},
   "outputs": [
    {
     "data": {
      "text/html": [
       "<div>\n",
       "<style scoped>\n",
       "    .dataframe tbody tr th:only-of-type {\n",
       "        vertical-align: middle;\n",
       "    }\n",
       "\n",
       "    .dataframe tbody tr th {\n",
       "        vertical-align: top;\n",
       "    }\n",
       "\n",
       "    .dataframe thead th {\n",
       "        text-align: right;\n",
       "    }\n",
       "</style>\n",
       "<table border=\"1\" class=\"dataframe\">\n",
       "  <thead>\n",
       "    <tr style=\"text-align: right;\">\n",
       "      <th></th>\n",
       "      <th>0</th>\n",
       "      <th>1</th>\n",
       "      <th>2</th>\n",
       "      <th>3</th>\n",
       "      <th>4</th>\n",
       "      <th>5</th>\n",
       "      <th>6</th>\n",
       "      <th>7</th>\n",
       "      <th>8</th>\n",
       "      <th>9</th>\n",
       "      <th>...</th>\n",
       "      <th>53</th>\n",
       "      <th>54</th>\n",
       "      <th>55</th>\n",
       "      <th>56</th>\n",
       "      <th>57</th>\n",
       "      <th>58</th>\n",
       "      <th>59</th>\n",
       "      <th>60</th>\n",
       "      <th>61</th>\n",
       "      <th>62</th>\n",
       "    </tr>\n",
       "  </thead>\n",
       "  <tbody>\n",
       "    <tr>\n",
       "      <th>count</th>\n",
       "      <td>1.600000e+03</td>\n",
       "      <td>1.600000e+03</td>\n",
       "      <td>1.600000e+03</td>\n",
       "      <td>1.600000e+03</td>\n",
       "      <td>1.600000e+03</td>\n",
       "      <td>1.600000e+03</td>\n",
       "      <td>1.600000e+03</td>\n",
       "      <td>1.600000e+03</td>\n",
       "      <td>1.600000e+03</td>\n",
       "      <td>1.600000e+03</td>\n",
       "      <td>...</td>\n",
       "      <td>1600.000000</td>\n",
       "      <td>1600.000000</td>\n",
       "      <td>1600.000000</td>\n",
       "      <td>1600.000000</td>\n",
       "      <td>1600.000000</td>\n",
       "      <td>1600.000000</td>\n",
       "      <td>1600.000000</td>\n",
       "      <td>1600.000000</td>\n",
       "      <td>1600.000000</td>\n",
       "      <td>1600.000000</td>\n",
       "    </tr>\n",
       "    <tr>\n",
       "      <th>mean</th>\n",
       "      <td>4.773959e-17</td>\n",
       "      <td>-8.881784e-18</td>\n",
       "      <td>-4.440892e-18</td>\n",
       "      <td>2.220446e-17</td>\n",
       "      <td>1.332268e-17</td>\n",
       "      <td>-1.720846e-17</td>\n",
       "      <td>-4.440892e-18</td>\n",
       "      <td>2.442491e-17</td>\n",
       "      <td>-1.554312e-17</td>\n",
       "      <td>1.332268e-17</td>\n",
       "      <td>...</td>\n",
       "      <td>0.005130</td>\n",
       "      <td>0.001776</td>\n",
       "      <td>-0.001313</td>\n",
       "      <td>0.002881</td>\n",
       "      <td>0.003309</td>\n",
       "      <td>-0.005871</td>\n",
       "      <td>-0.000633</td>\n",
       "      <td>0.003660</td>\n",
       "      <td>0.000518</td>\n",
       "      <td>0.004804</td>\n",
       "    </tr>\n",
       "    <tr>\n",
       "      <th>std</th>\n",
       "      <td>1.000313e+00</td>\n",
       "      <td>1.000313e+00</td>\n",
       "      <td>1.000313e+00</td>\n",
       "      <td>1.000313e+00</td>\n",
       "      <td>1.000313e+00</td>\n",
       "      <td>1.000313e+00</td>\n",
       "      <td>1.000313e+00</td>\n",
       "      <td>1.000313e+00</td>\n",
       "      <td>1.000313e+00</td>\n",
       "      <td>1.000313e+00</td>\n",
       "      <td>...</td>\n",
       "      <td>0.273444</td>\n",
       "      <td>0.269879</td>\n",
       "      <td>0.268025</td>\n",
       "      <td>0.264950</td>\n",
       "      <td>0.259948</td>\n",
       "      <td>0.255594</td>\n",
       "      <td>0.253620</td>\n",
       "      <td>0.252040</td>\n",
       "      <td>0.249510</td>\n",
       "      <td>0.247086</td>\n",
       "    </tr>\n",
       "    <tr>\n",
       "      <th>min</th>\n",
       "      <td>-3.553724e-01</td>\n",
       "      <td>-2.825749e-01</td>\n",
       "      <td>-2.151578e-01</td>\n",
       "      <td>-8.108696e-01</td>\n",
       "      <td>-2.546469e-01</td>\n",
       "      <td>-4.360406e-01</td>\n",
       "      <td>-2.576937e-01</td>\n",
       "      <td>-6.628086e-01</td>\n",
       "      <td>-4.586720e-01</td>\n",
       "      <td>-5.728168e-01</td>\n",
       "      <td>...</td>\n",
       "      <td>-0.884698</td>\n",
       "      <td>-0.990684</td>\n",
       "      <td>-0.902642</td>\n",
       "      <td>-0.996002</td>\n",
       "      <td>-1.064303</td>\n",
       "      <td>-0.836404</td>\n",
       "      <td>-0.947139</td>\n",
       "      <td>-0.646846</td>\n",
       "      <td>-0.986485</td>\n",
       "      <td>-1.200074</td>\n",
       "    </tr>\n",
       "    <tr>\n",
       "      <th>25%</th>\n",
       "      <td>-3.553724e-01</td>\n",
       "      <td>-2.781845e-01</td>\n",
       "      <td>-1.873056e-01</td>\n",
       "      <td>-5.862519e-01</td>\n",
       "      <td>-2.485435e-01</td>\n",
       "      <td>-3.707450e-01</td>\n",
       "      <td>-2.380299e-01</td>\n",
       "      <td>-5.672298e-01</td>\n",
       "      <td>-4.155170e-01</td>\n",
       "      <td>-5.728168e-01</td>\n",
       "      <td>...</td>\n",
       "      <td>-0.166568</td>\n",
       "      <td>-0.149090</td>\n",
       "      <td>-0.161239</td>\n",
       "      <td>-0.162423</td>\n",
       "      <td>-0.143648</td>\n",
       "      <td>-0.152327</td>\n",
       "      <td>-0.143057</td>\n",
       "      <td>-0.158258</td>\n",
       "      <td>-0.150085</td>\n",
       "      <td>-0.150909</td>\n",
       "    </tr>\n",
       "    <tr>\n",
       "      <th>50%</th>\n",
       "      <td>-2.076084e-01</td>\n",
       "      <td>-2.737940e-01</td>\n",
       "      <td>-1.594535e-01</td>\n",
       "      <td>-3.616343e-01</td>\n",
       "      <td>-2.137602e-01</td>\n",
       "      <td>-2.764292e-01</td>\n",
       "      <td>-1.987024e-01</td>\n",
       "      <td>-2.804937e-01</td>\n",
       "      <td>-2.968409e-01</td>\n",
       "      <td>-5.728168e-01</td>\n",
       "      <td>...</td>\n",
       "      <td>-0.007804</td>\n",
       "      <td>0.012662</td>\n",
       "      <td>-0.007370</td>\n",
       "      <td>-0.001009</td>\n",
       "      <td>0.002177</td>\n",
       "      <td>0.010621</td>\n",
       "      <td>0.004710</td>\n",
       "      <td>-0.014792</td>\n",
       "      <td>-0.010237</td>\n",
       "      <td>-0.011205</td>\n",
       "    </tr>\n",
       "    <tr>\n",
       "      <th>75%</th>\n",
       "      <td>-2.076084e-01</td>\n",
       "      <td>-1.859845e-01</td>\n",
       "      <td>-9.446517e-02</td>\n",
       "      <td>8.760087e-02</td>\n",
       "      <td>-8.704703e-02</td>\n",
       "      <td>-9.142512e-02</td>\n",
       "      <td>-6.105600e-02</td>\n",
       "      <td>3.407680e-01</td>\n",
       "      <td>-1.948716e-03</td>\n",
       "      <td>1.224256e+00</td>\n",
       "      <td>...</td>\n",
       "      <td>0.166741</td>\n",
       "      <td>0.162068</td>\n",
       "      <td>0.160574</td>\n",
       "      <td>0.156023</td>\n",
       "      <td>0.154631</td>\n",
       "      <td>0.135561</td>\n",
       "      <td>0.155839</td>\n",
       "      <td>0.138833</td>\n",
       "      <td>0.145659</td>\n",
       "      <td>0.141407</td>\n",
       "    </tr>\n",
       "    <tr>\n",
       "      <th>max</th>\n",
       "      <td>1.264786e+01</td>\n",
       "      <td>1.698515e+01</td>\n",
       "      <td>2.581731e+01</td>\n",
       "      <td>8.959996e+00</td>\n",
       "      <td>1.857870e+01</td>\n",
       "      <td>1.101245e+01</td>\n",
       "      <td>3.234483e+01</td>\n",
       "      <td>2.084240e+01</td>\n",
       "      <td>1.981337e+01</td>\n",
       "      <td>6.615472e+00</td>\n",
       "      <td>...</td>\n",
       "      <td>0.898329</td>\n",
       "      <td>1.205812</td>\n",
       "      <td>1.013552</td>\n",
       "      <td>1.006429</td>\n",
       "      <td>1.243221</td>\n",
       "      <td>0.872545</td>\n",
       "      <td>0.951110</td>\n",
       "      <td>1.392748</td>\n",
       "      <td>1.023047</td>\n",
       "      <td>1.200330</td>\n",
       "    </tr>\n",
       "  </tbody>\n",
       "</table>\n",
       "<p>8 rows × 63 columns</p>\n",
       "</div>"
      ],
      "text/plain": [
       "                 0             1             2             3             4   \\\n",
       "count  1.600000e+03  1.600000e+03  1.600000e+03  1.600000e+03  1.600000e+03   \n",
       "mean   4.773959e-17 -8.881784e-18 -4.440892e-18  2.220446e-17  1.332268e-17   \n",
       "std    1.000313e+00  1.000313e+00  1.000313e+00  1.000313e+00  1.000313e+00   \n",
       "min   -3.553724e-01 -2.825749e-01 -2.151578e-01 -8.108696e-01 -2.546469e-01   \n",
       "25%   -3.553724e-01 -2.781845e-01 -1.873056e-01 -5.862519e-01 -2.485435e-01   \n",
       "50%   -2.076084e-01 -2.737940e-01 -1.594535e-01 -3.616343e-01 -2.137602e-01   \n",
       "75%   -2.076084e-01 -1.859845e-01 -9.446517e-02  8.760087e-02 -8.704703e-02   \n",
       "max    1.264786e+01  1.698515e+01  2.581731e+01  8.959996e+00  1.857870e+01   \n",
       "\n",
       "                 5             6             7             8             9   \\\n",
       "count  1.600000e+03  1.600000e+03  1.600000e+03  1.600000e+03  1.600000e+03   \n",
       "mean  -1.720846e-17 -4.440892e-18  2.442491e-17 -1.554312e-17  1.332268e-17   \n",
       "std    1.000313e+00  1.000313e+00  1.000313e+00  1.000313e+00  1.000313e+00   \n",
       "min   -4.360406e-01 -2.576937e-01 -6.628086e-01 -4.586720e-01 -5.728168e-01   \n",
       "25%   -3.707450e-01 -2.380299e-01 -5.672298e-01 -4.155170e-01 -5.728168e-01   \n",
       "50%   -2.764292e-01 -1.987024e-01 -2.804937e-01 -2.968409e-01 -5.728168e-01   \n",
       "75%   -9.142512e-02 -6.105600e-02  3.407680e-01 -1.948716e-03  1.224256e+00   \n",
       "max    1.101245e+01  3.234483e+01  2.084240e+01  1.981337e+01  6.615472e+00   \n",
       "\n",
       "       ...           53           54           55           56           57  \\\n",
       "count  ...  1600.000000  1600.000000  1600.000000  1600.000000  1600.000000   \n",
       "mean   ...     0.005130     0.001776    -0.001313     0.002881     0.003309   \n",
       "std    ...     0.273444     0.269879     0.268025     0.264950     0.259948   \n",
       "min    ...    -0.884698    -0.990684    -0.902642    -0.996002    -1.064303   \n",
       "25%    ...    -0.166568    -0.149090    -0.161239    -0.162423    -0.143648   \n",
       "50%    ...    -0.007804     0.012662    -0.007370    -0.001009     0.002177   \n",
       "75%    ...     0.166741     0.162068     0.160574     0.156023     0.154631   \n",
       "max    ...     0.898329     1.205812     1.013552     1.006429     1.243221   \n",
       "\n",
       "                58           59           60           61           62  \n",
       "count  1600.000000  1600.000000  1600.000000  1600.000000  1600.000000  \n",
       "mean     -0.005871    -0.000633     0.003660     0.000518     0.004804  \n",
       "std       0.255594     0.253620     0.252040     0.249510     0.247086  \n",
       "min      -0.836404    -0.947139    -0.646846    -0.986485    -1.200074  \n",
       "25%      -0.152327    -0.143057    -0.158258    -0.150085    -0.150909  \n",
       "50%       0.010621     0.004710    -0.014792    -0.010237    -0.011205  \n",
       "75%       0.135561     0.155839     0.138833     0.145659     0.141407  \n",
       "max       0.872545     0.951110     1.392748     1.023047     1.200330  \n",
       "\n",
       "[8 rows x 63 columns]"
      ]
     },
     "execution_count": 36,
     "metadata": {},
     "output_type": "execute_result"
    }
   ],
   "source": [
    "pd.DataFrame(a).describe()"
   ]
  },
  {
   "cell_type": "code",
   "execution_count": null,
   "id": "80bc29ef",
   "metadata": {},
   "outputs": [],
   "source": []
  }
 ],
 "metadata": {
  "hide_input": false,
  "kernelspec": {
   "display_name": "Python 3",
   "language": "python",
   "name": "python3"
  },
  "language_info": {
   "codemirror_mode": {
    "name": "ipython",
    "version": 3
   },
   "file_extension": ".py",
   "mimetype": "text/x-python",
   "name": "python",
   "nbconvert_exporter": "python",
   "pygments_lexer": "ipython3",
   "version": "3.6.13"
  },
  "toc": {
   "base_numbering": 1,
   "nav_menu": {},
   "number_sections": true,
   "sideBar": true,
   "skip_h1_title": false,
   "title_cell": "Table of Contents",
   "title_sidebar": "Contents",
   "toc_cell": false,
   "toc_position": {
    "height": "calc(100% - 180px)",
    "left": "10px",
    "top": "150px",
    "width": "288px"
   },
   "toc_section_display": true,
   "toc_window_display": true
  }
 },
 "nbformat": 4,
 "nbformat_minor": 5
}
